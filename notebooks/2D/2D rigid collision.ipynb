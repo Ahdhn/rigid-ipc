{
 "cells": [
  {
   "cell_type": "code",
   "execution_count": 1,
   "metadata": {},
   "outputs": [],
   "source": [
    "# Some more magic so that the notebook will reload external python modules;\n",
    "# see http://stackoverflow.com/questions/1907993/autoreload-of-modules-in-ipython\n",
    "%load_ext autoreload\n",
    "%autoreload 2"
   ]
  },
  {
   "cell_type": "code",
   "execution_count": 2,
   "metadata": {},
   "outputs": [],
   "source": [
    "import sympy as sympy\n",
    "import numpy as np\n",
    "from sympy import *\n",
    "init_printing()\n"
   ]
  },
  {
   "cell_type": "code",
   "execution_count": 3,
   "metadata": {},
   "outputs": [],
   "source": [
    "def sub_matrix(subs, symbol, value):\n",
    "    for i, v in enumerate(symbol.values()):\n",
    "        subs[v] = value[i]\n",
    "    return subs\n",
    "\n",
    "def perp(vec2):\n",
    "    return Matrix([-vec2[1],vec2[0]])\n",
    "\n",
    "def world_vel(V, w, r_perp):\n",
    "    return V + w * r_perp\n",
    "\n",
    "def mass(w,h): #perimeter\n",
    "    return S(2) * S(w) + S(2) * S(h)\n",
    "\n",
    "def inertia(w,h):\n",
    "    m_i = S(w)/S(2) + S(h)/S(2)\n",
    "    r_i_2 = (S(w)/S(2))**2 + (S(h)/S(2)) **2\n",
    "    return 4 * m_i * r_i_2"
   ]
  },
  {
   "cell_type": "code",
   "execution_count": 4,
   "metadata": {},
   "outputs": [],
   "source": [
    "inv_m_A, inv_m_B, inv_I_A, inv_I_B = symbols(\"m_A^{-1} m_B^{-1} I_A^{-1} I_B^{-1}\")\n",
    "K, C, v_rel_prev, j = symbols(\"K C v_{rel}^{-} j\")"
   ]
  },
  {
   "cell_type": "code",
   "execution_count": 5,
   "metadata": {},
   "outputs": [],
   "source": [
    "w_A_prev, w_B_prev = symbols(\"\\omega_A^{-1} \\omega_B^{-1}\")\n",
    "V_A_prev = Matrix(symbols(\"V_A^{-1}[0:2]\"))\n",
    "V_B_prev = Matrix(symbols(\"V_B^{-1}[0:2]\"))"
   ]
  },
  {
   "cell_type": "code",
   "execution_count": 6,
   "metadata": {},
   "outputs": [],
   "source": [
    "# normal direction\n",
    "n = Matrix(symbols(\"n[0:2]\"))\n",
    "r_Aperp = Matrix(symbols(\"r_A^{\\perp}[0:2]\"))\n",
    "r_Bperp = Matrix(symbols(\"r_B^{\\perp}[0:2]\"))"
   ]
  },
  {
   "cell_type": "code",
   "execution_count": 7,
   "metadata": {},
   "outputs": [
    {
     "data": {
      "image/png": "[encoded data removed]",
      "text/latex": [
       "$$I_A^{-1} \\left(n[0] r_A^{\\perp}[0] + n[1] r_A^{\\perp}[1]\\right)^{2} + I_B^{-1} \\left(n[0] r_B^{\\perp}[0] + n[1] r_B^{\\perp}[1]\\right)^{2} + m_A^{-1} + m_B^{-1}$$"
      ],
      "text/plain": [
       "                                                       2                      \n",
       "I_A__{-1}⋅(n[0]⋅r_A__{\\perp}[0] + n[1]⋅r_A__{\\perp}[1])  + I_B__{-1}⋅(n[0]⋅r_B\n",
       "\n",
       "                                    2                        \n",
       "__{\\perp}[0] + n[1]⋅r_B__{\\perp}[1])  + m_A__{-1} + m_B__{-1}"
      ]
     },
     "execution_count": 7,
     "metadata": {},
     "output_type": "execute_result"
    }
   ],
   "source": [
    "K_ = inv_m_A + inv_m_B + inv_I_A * (n.T.dot(r_Aperp))**2 + inv_I_B * (n.T.dot(r_Bperp))**2\n",
    "K_"
   ]
  },
  {
   "cell_type": "code",
   "execution_count": 8,
   "metadata": {},
   "outputs": [
    {
     "data": {
      "image/png": "[encoded data removed]",
      "text/latex": [
       "$$- \\frac{v_{rel}^{-} \\left(C + 1\\right)}{K}$$"
      ],
      "text/plain": [
       "-v_{rel}__{-}⋅(C + 1) \n",
       "──────────────────────\n",
       "          K           "
      ]
     },
     "execution_count": 8,
     "metadata": {},
     "output_type": "execute_result"
    }
   ],
   "source": [
    "j_ = -S(1)/K * (S(1)+C) * v_rel_prev \n",
    "j_"
   ]
  },
  {
   "cell_type": "code",
   "execution_count": 9,
   "metadata": {},
   "outputs": [
    {
     "data": {
      "image/png": "[encoded data removed]",
      "text/latex": [
       "$$\\left ( \\left[\\begin{matrix}j m_A^{-1} n[0]\\\\j m_A^{-1} n[1]\\end{matrix}\\right], \\quad \\left[\\begin{matrix}- j m_B^{-1} n[0]\\\\- j m_B^{-1} n[1]\\end{matrix}\\right]\\right )$$"
      ],
      "text/plain": [
       "⎛⎡j⋅m_A__{-1}⋅n[0]⎤  ⎡-j⋅m_B__{-1}⋅n[0]⎤⎞\n",
       "⎜⎢                ⎥, ⎢                 ⎥⎟\n",
       "⎝⎣j⋅m_A__{-1}⋅n[1]⎦  ⎣-j⋅m_B__{-1}⋅n[1]⎦⎠"
      ]
     },
     "execution_count": 9,
     "metadata": {},
     "output_type": "execute_result"
    }
   ],
   "source": [
    "V_A_delta = inv_m_A * j * n\n",
    "V_B_delta = - inv_m_B * j * n\n",
    "V_A_delta, V_B_delta"
   ]
  },
  {
   "cell_type": "code",
   "execution_count": 10,
   "metadata": {},
   "outputs": [
    {
     "data": {
      "image/png": "[encoded data removed]",
      "text/latex": [
       "$$\\left ( I_A^{-1} j \\left(n[0] r_A^{\\perp}[0] + n[1] r_A^{\\perp}[1]\\right), \\quad - I_B^{-1} j \\left(n[0] r_B^{\\perp}[0] + n[1] r_B^{\\perp}[1]\\right)\\right )$$"
      ],
      "text/plain": [
       "(I_A__{-1}⋅j⋅(n[0]⋅r_A__{\\perp}[0] + n[1]⋅r_A__{\\perp}[1]), -I_B__{-1}⋅j⋅(n[0]\n",
       "⋅r_B__{\\perp}[0] + n[1]⋅r_B__{\\perp}[1]))"
      ]
     },
     "execution_count": 10,
     "metadata": {},
     "output_type": "execute_result"
    }
   ],
   "source": [
    "w_A_delta = inv_I_A * j * (n.dot(r_Aperp))\n",
    "w_B_delta = - inv_I_B * j * (n.dot(r_Bperp))\n",
    "w_A_delta, w_B_delta"
   ]
  },
  {
   "cell_type": "code",
   "execution_count": 11,
   "metadata": {},
   "outputs": [],
   "source": [
    "v_A_prev = world_vel(V_A_prev, w_A_prev, r_Aperp)\n",
    "v_B_prev = world_vel(V_B_prev, w_B_prev, r_Bperp)"
   ]
  },
  {
   "cell_type": "code",
   "execution_count": 12,
   "metadata": {},
   "outputs": [],
   "source": [
    "subs = dict()"
   ]
  },
  {
   "cell_type": "code",
   "execution_count": 20,
   "metadata": {},
   "outputs": [],
   "source": [
    "subs[C] = 1\n",
    "def two_rectangles(subs, wA,hA,wB,hB):\n",
    "    subs[inv_m_A] = S(1)/mass(wA,hA)\n",
    "    subs[inv_m_B] = S(1)/mass(wB,hB)\n",
    "    subs[inv_I_A] = S(1)/inertia(wA,hA)\n",
    "    subs[inv_I_B] = S(1)/inertia(wB,hB)\n",
    "    subs[w_A_prev] = 0\n",
    "    subs[w_B_prev] = 0\n",
    "    subs = sub_matrix(subs, r_Aperp, perp([S(wA)/S(2), -S(hA)/S(2)]))\n",
    "    subs = sub_matrix(subs, r_Bperp, perp([-S(wB)/S(2), -S(hA)/S(2)])) # yes hA!\n",
    "    subs = sub_matrix(subs, n, [-1,0])\n",
    "    subs = sub_matrix(subs, V_A_prev, [1,0])\n",
    "    subs = sub_matrix(subs, V_B_prev, [0,0])\n",
    "    return subs\n",
    "subs = two_rectangles(subs,4,2,2,4)"
   ]
  },
  {
   "cell_type": "code",
   "execution_count": 21,
   "metadata": {},
   "outputs": [],
   "source": [
    "subs[v_rel_prev] = ((v_A_prev - v_B_prev).dot(n)).subs(subs)"
   ]
  },
  {
   "cell_type": "code",
   "execution_count": 22,
   "metadata": {},
   "outputs": [],
   "source": [
    "subs[K] = K_.subs(subs)\n",
    "subs[j] = j_.subs(subs)"
   ]
  },
  {
   "cell_type": "code",
   "execution_count": 31,
   "metadata": {},
   "outputs": [
    {
     "data": {
      "image/png": "[encoded data removed]",
      "text/latex": [
       "$$\\left[\\begin{matrix}-0.833333333333333\\\\0\\end{matrix}\\right]$$"
      ],
      "text/plain": [
       "⎡-0.833333333333333⎤\n",
       "⎢                  ⎥\n",
       "⎣        0         ⎦"
      ]
     },
     "execution_count": 31,
     "metadata": {},
     "output_type": "execute_result"
    }
   ],
   "source": [
    "V_A_delta.subs(subs).evalf()"
   ]
  },
  {
   "cell_type": "code",
   "execution_count": 32,
   "metadata": {},
   "outputs": [
    {
     "data": {
      "image/png": "[encoded data removed]",
      "text/latex": [
       "$$\\left[\\begin{matrix}0.833333333333333\\\\0\\end{matrix}\\right]$$"
      ],
      "text/plain": [
       "⎡0.833333333333333⎤\n",
       "⎢                 ⎥\n",
       "⎣        0        ⎦"
      ]
     },
     "execution_count": 32,
     "metadata": {},
     "output_type": "execute_result"
    }
   ],
   "source": [
    "V_B_delta.subs(subs).evalf()"
   ]
  },
  {
   "cell_type": "code",
   "execution_count": 37,
   "metadata": {},
   "outputs": [
    {
     "data": {
      "image/png": "[encoded data removed]",
      "text/latex": [
       "$$I_A^{-1} j \\left(n[0] r_A^{\\perp}[0] + n[1] r_A^{\\perp}[1]\\right)$$"
      ],
      "text/plain": [
       "I_A__{-1}⋅j⋅(n[0]⋅r_A__{\\perp}[0] + n[1]⋅r_A__{\\perp}[1])"
      ]
     },
     "execution_count": 37,
     "metadata": {},
     "output_type": "execute_result"
    }
   ],
   "source": [
    "w_A_delta"
   ]
  },
  {
   "cell_type": "code",
   "execution_count": 28,
   "metadata": {},
   "outputs": [
    {
     "data": {
      "image/png": "[encoded data removed]",
      "text/latex": [
       "$$\\frac{1}{6}$$"
      ],
      "text/plain": [
       "1/6"
      ]
     },
     "execution_count": 28,
     "metadata": {},
     "output_type": "execute_result"
    }
   ],
   "source": [
    "w_B_delta.subs(subs)"
   ]
  },
  {
   "cell_type": "code",
   "execution_count": 29,
   "metadata": {},
   "outputs": [
    {
     "data": {
      "image/png": "[encoded data removed]",
      "text/latex": [
       "$$\\left \\{ C : 1, \\quad I_A^{-1} : \\frac{1}{60}, \\quad I_B^{-1} : \\frac{1}{60}, \\quad K : \\frac{1}{5}, \\quad V_A^{-1}[0] : 1, \\quad V_A^{-1}[1] : 0, \\quad V_B^{-1}[0] : 0, \\quad V_B^{-1}[1] : 0, \\quad \\omega_A^{-1} : 0, \\quad \\omega_B^{-1} : 0, \\quad j : 10, \\quad m_A^{-1} : \\frac{1}{12}, \\quad m_B^{-1} : \\frac{1}{12}, \\quad n[0] : -1, \\quad n[1] : 0, \\quad r_A^{\\perp}[0] : 1, \\quad r_A^{\\perp}[1] : 2, \\quad r_B^{\\perp}[0] : 1, \\quad r_B^{\\perp}[1] : -1, \\quad v_{rel}^{-} : -1\\right \\}$$"
      ],
      "text/plain": [
       "{C: 1, I_A__{-1}: 1/60, I_B__{-1}: 1/60, K: 1/5, V_A__{-1}[0]: 1, V_A__{-1}[1]\n",
       ": 0, V_B__{-1}[0]: 0, V_B__{-1}[1]: 0, \\omega_A__{-1}: 0, \\omega_B__{-1}: 0, j\n",
       ": 10, m_A__{-1}: 1/12, m_B__{-1}: 1/12, n[0]: -1, n[1]: 0, r_A__{\\perp}[0]: 1,\n",
       " r_A__{\\perp}[1]: 2, r_B__{\\perp}[0]: 1, r_B__{\\perp}[1]: -1, v_{rel}__{-}: -1\n",
       "}"
      ]
     },
     "execution_count": 29,
     "metadata": {},
     "output_type": "execute_result"
    }
   ],
   "source": [
    "subs"
   ]
  },
  {
   "cell_type": "code",
   "execution_count": 40,
   "metadata": {},
   "outputs": [
    {
     "data": {
      "image/png": "[encoded data removed]",
      "text/latex": [
       "$$-1$$"
      ],
      "text/plain": [
       "-1"
      ]
     },
     "execution_count": 40,
     "metadata": {},
     "output_type": "execute_result"
    }
   ],
   "source": [
    "n.dot(r_Aperp).subs(subs)"
   ]
  },
  {
   "cell_type": "code",
   "execution_count": null,
   "metadata": {},
   "outputs": [],
   "source": []
  }
 ],
 "metadata": {
  "kernelspec": {
   "display_name": "Python 3",
   "language": "python",
   "name": "python3"
  },
  "language_info": {
   "codemirror_mode": {
    "name": "ipython",
    "version": 3
   },
   "file_extension": ".py",
   "mimetype": "text/x-python",
   "name": "python",
   "nbconvert_exporter": "python",
   "pygments_lexer": "ipython3",
   "version": "3.8.6"
  },
  "varInspector": {
   "cols": {
    "lenName": 16,
    "lenType": 16,
    "lenVar": 40
   },
   "kernels_config": {
    "python": {
     "delete_cmd_postfix": "",
     "delete_cmd_prefix": "del ",
     "library": "var_list.py",
     "varRefreshCmd": "print(var_dic_list())"
    },
    "r": {
     "delete_cmd_postfix": ") ",
     "delete_cmd_prefix": "rm(",
     "library": "var_list.r",
     "varRefreshCmd": "cat(var_dic_list()) "
    }
   },
   "types_to_exclude": [
    "module",
    "function",
    "builtin_function_or_method",
    "instance",
    "_Feature"
   ],
   "window_display": false
  }
 },
 "nbformat": 4,
 "nbformat_minor": 2
}
