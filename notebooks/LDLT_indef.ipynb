{
 "cells": [
  {
   "cell_type": "markdown",
   "metadata": {},
   "source": [
    "# Solve Indefinite system with LDLT"
   ]
  },
  {
   "cell_type": "code",
   "execution_count": 6,
   "metadata": {},
   "outputs": [],
   "source": [
    "import numpy\n",
    "import sympy.vector\n",
    "from IPython.display import Latex, Math, display\n",
    "from sympy import *\n",
    "\n",
    "init_printing()"
   ]
  },
  {
   "cell_type": "code",
   "execution_count": 8,
   "metadata": {},
   "outputs": [
    {
     "data": {
      "image/png": "[encoded data removed]",
      "text/latex": [
       "$\\displaystyle \\left[\\begin{matrix}1.0 & 0.0 & 0.0 & 0.0 & 0.0 & 0.0\\\\0.0 & 1.0 & 0.0 & 0.0 & 0.0 & 0.0\\\\0.0 & 0.0 & 1.0 & 0.0 & 0.0 & 0.0\\\\0.0 & 0.0 & 0.0 & 1.0 & 0.0 & 0.0\\\\0.0 & 0.0 & 0.0 & 0.0 & 1.0 & 0.0\\\\0.0 & 0.0 & 0.0 & 0.0 & 0.0 & 1.0\\end{matrix}\\right]$"
      ],
      "text/plain": [
       "⎡1.0  0.0  0.0  0.0  0.0  0.0⎤\n",
       "⎢                            ⎥\n",
       "⎢0.0  1.0  0.0  0.0  0.0  0.0⎥\n",
       "⎢                            ⎥\n",
       "⎢0.0  0.0  1.0  0.0  0.0  0.0⎥\n",
       "⎢                            ⎥\n",
       "⎢0.0  0.0  0.0  1.0  0.0  0.0⎥\n",
       "⎢                            ⎥\n",
       "⎢0.0  0.0  0.0  0.0  1.0  0.0⎥\n",
       "⎢                            ⎥\n",
       "⎣0.0  0.0  0.0  0.0  0.0  1.0⎦"
      ]
     },
     "metadata": {},
     "output_type": "display_data"
    },
    {
     "data": {
      "image/png": "[encoded data removed]",
      "text/latex": [
       "$\\displaystyle \\left[\\begin{matrix}1.0 & 0.0 & 0.0 & 0.0 & 0.0 & 0.0\\\\0.0 & 1.0 & 0.0 & 0.0 & 0.0 & 0.0\\\\0.0 & 0.0 & 1.0 & 0.0 & 0.0 & 0.0\\\\0.0 & 0.0 & 0.0 & -0.000267797507111039 & 0.0 & 0.0\\\\0.0 & 0.0 & 0.0 & 0.0 & 0.166666666666667 & 0.0\\\\0.0 & 0.0 & 0.0 & 0.0 & 0.0 & -0.000267797507111039\\end{matrix}\\right]$"
      ],
      "text/plain": [
       "⎡1.0  0.0  0.0           0.0                  0.0                  0.0        \n",
       "⎢                                                                             \n",
       "⎢0.0  1.0  0.0           0.0                  0.0                  0.0        \n",
       "⎢                                                                             \n",
       "⎢0.0  0.0  1.0           0.0                  0.0                  0.0        \n",
       "⎢                                                                             \n",
       "⎢0.0  0.0  0.0  -0.000267797507111039         0.0                  0.0        \n",
       "⎢                                                                             \n",
       "⎢0.0  0.0  0.0           0.0           0.166666666666667           0.0        \n",
       "⎢                                                                             \n",
       "⎣0.0  0.0  0.0           0.0                  0.0         -0.00026779750711103\n",
       "\n",
       " ⎤\n",
       " ⎥\n",
       " ⎥\n",
       " ⎥\n",
       " ⎥\n",
       " ⎥\n",
       " ⎥\n",
       " ⎥\n",
       " ⎥\n",
       " ⎥\n",
       "9⎦"
      ]
     },
     "metadata": {},
     "output_type": "display_data"
    },
    {
     "data": {
      "image/png": "[encoded data removed]",
      "text/latex": [
       "$\\displaystyle \\left[\\begin{matrix}0.0 & 0.0 & 0.0 & 0.0 & 0.0 & 0.0\\\\0.0 & 0.0 & 0.0 & 0.0 & 0.0 & 0.0\\\\0.0 & 0.0 & 0.0 & 0.0 & 0.0 & 0.0\\\\0.0 & 0.0 & 0.0 & 0.0 & 0.0 & 0.0\\\\0.0 & 0.0 & 0.0 & 0.0 & 0.0 & 0.0\\\\0.0 & 0.0 & 0.0 & 0.0 & 0.0 & 0.0\\end{matrix}\\right]$"
      ],
      "text/plain": [
       "⎡0.0  0.0  0.0  0.0  0.0  0.0⎤\n",
       "⎢                            ⎥\n",
       "⎢0.0  0.0  0.0  0.0  0.0  0.0⎥\n",
       "⎢                            ⎥\n",
       "⎢0.0  0.0  0.0  0.0  0.0  0.0⎥\n",
       "⎢                            ⎥\n",
       "⎢0.0  0.0  0.0  0.0  0.0  0.0⎥\n",
       "⎢                            ⎥\n",
       "⎢0.0  0.0  0.0  0.0  0.0  0.0⎥\n",
       "⎢                            ⎥\n",
       "⎣0.0  0.0  0.0  0.0  0.0  0.0⎦"
      ]
     },
     "metadata": {},
     "output_type": "display_data"
    },
    {
     "data": {
      "text/plain": [
       "array([0., 0., 0., 0., 0., 0.])"
      ]
     },
     "execution_count": 8,
     "metadata": {},
     "output_type": "execute_result"
    }
   ],
   "source": [
    "A = [[1, 0, 0, 0, 0, 0], [0, 1, 0, 0, 0, 0], [0, 0, 1, 0, 0, 0],\n",
    "     [0, 0, 0, -0.000267797507111039, 0,\n",
    "      0], [0, 0, 0, 0, 0.166666666666667, 0],\n",
    "     [0, 0, 0, 0, 0, -0.000267797507111039]]\n",
    "b = numpy.array([-0, -0, -0, -0, 0.00523526215594216, -0])\n",
    "\n",
    "import scipy.linalg\n",
    "L, D, P = scipy.linalg.ldl(numpy.array(A))\n",
    "display(Matrix(L))\n",
    "display(Matrix(D))\n",
    "display(Matrix(L @ D @ L.T - A))\n",
    "A @ (scipy.linalg.solve_triangular(\n",
    "    L,\n",
    "    scipy.linalg.solve_triangular(D, scipy.linalg.solve_triangular(L.T, b)),\n",
    "    lower=True)) - b"
   ]
  },
  {
   "cell_type": "code",
   "execution_count": null,
   "metadata": {},
   "outputs": [],
   "source": []
  }
 ],
 "metadata": {
  "kernelspec": {
   "display_name": "Python 3",
   "language": "python",
   "name": "python3"
  },
  "language_info": {
   "codemirror_mode": {
    "name": "ipython",
    "version": 3
   },
   "file_extension": ".py",
   "mimetype": "text/x-python",
   "name": "python",
   "nbconvert_exporter": "python",
   "pygments_lexer": "ipython3",
   "version": "3.9.1"
  },
  "varInspector": {
   "cols": {
    "lenName": 16,
    "lenType": 16,
    "lenVar": 40
   },
   "kernels_config": {
    "python": {
     "delete_cmd_postfix": "",
     "delete_cmd_prefix": "del ",
     "library": "var_list.py",
     "varRefreshCmd": "print(var_dic_list())"
    },
    "r": {
     "delete_cmd_postfix": ") ",
     "delete_cmd_prefix": "rm(",
     "library": "var_list.r",
     "varRefreshCmd": "cat(var_dic_list()) "
    }
   },
   "types_to_exclude": [
    "module",
    "function",
    "builtin_function_or_method",
    "instance",
    "_Feature"
   ],
   "window_display": false
  }
 },
 "nbformat": 4,
 "nbformat_minor": 4
}
