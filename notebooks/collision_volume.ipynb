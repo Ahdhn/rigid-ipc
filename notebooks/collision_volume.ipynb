{
 "cells": [
  {
   "cell_type": "markdown",
   "metadata": {},
   "source": [
    "# Intersection Volume"
   ]
  },
  {
   "cell_type": "code",
   "execution_count": 1,
   "metadata": {},
   "outputs": [],
   "source": [
    "# Some more magic so that the notebook will reload external python modules;\n",
    "# see http://stackoverflow.com/questions/1907993/autoreload-of-modules-in-ipython\n",
    "%load_ext autoreload\n",
    "%autoreload 2"
   ]
  },
  {
   "cell_type": "code",
   "execution_count": null,
   "metadata": {},
   "outputs": [],
   "source": []
  },
  {
   "cell_type": "markdown",
   "metadata": {},
   "source": [
    "### Volume for an Edge-Vertex contact.\n",
    "We compute contact volumes per-edge using the edges earliest contact. For each edge, the volume is given by\n",
    "$$\n",
    "\\newcommand{\\bU}{\\mathbf{U}}\n",
    "\\newcommand{\\be}{\\mathbf{e}}\n",
    "V_k(\\be) = (1 - \\tau_I)\\sqrt{\\epsilon^2 |\\be(\\tau_I)|^2 + \\bU_{ij} \\cdot \\be(\\tau_I)^{\\bot}}\n",
    "$$\n",
    "\n",
    "where \n",
    "- $|e(\\tau_I)|$ is the length of the edge at the first time of collision ($\\tau_I$), \n",
    "- $\\epsilon$ is some small value\n",
    "- $\\bU_{ij}$ is the velocity of the contact point at the edge. \n",
    "\n",
    "Let $\\bU_i,\\bU_j,\\bU_k$ be the velocities (i.e also distances since $dt=1$) of the three vertexes. We can compute $\\bU_{ij}$, the velocity of the contact point along the edge as\n",
    "\n",
    "$$ \\bU_{ij} = \\bU_{i} + \\alpha_{\\tau} (\\bU_{j} - \\bU_{i}) $$\n",
    "\n",
    "where $\\alpha_{\\tau}$ is the distance along the edge where the first contact happens ( $0\\leq \\alpha \\leq 1$).\n"
   ]
  },
  {
   "cell_type": "code",
   "execution_count": 2,
   "metadata": {},
   "outputs": [],
   "source": [
    "import sympy as sympy\n",
    "import numpy as np\n",
    "from sympy import init_printing\n",
    "init_printing()"
   ]
  },
  {
   "cell_type": "code",
   "execution_count": 3,
   "metadata": {},
   "outputs": [],
   "source": [
    "i,j,k,l = np.arange(0,4)\n",
    "v = sympy.symbols(\"Vi:l[0:2]\", real=True) # vertices positions\n",
    "v = [sympy.Matrix(v[2*i:2*i+2]) for i in range(0,4)]\n",
    "u = sympy.symbols(\"Ui:l[0:2]\", real=True) # vertices velocities\n",
    "u = [sympy.Matrix(u[2*i:2*i+2]) for i in range(0,4)]\n",
    "\n",
    "toi, alpha, epsilon = sympy.symbols(\"toi alpha epsilon\", real=True)"
   ]
  },
  {
   "cell_type": "code",
   "execution_count": 5,
   "metadata": {},
   "outputs": [
    {
     "data": {
      "image/png": "[encoded data removed]",
      "text/latex": [
       "$$\\left[\\begin{matrix}- Ui[0] toi + Uj[0] toi - Vi[0] + Vj[0]\\\\- Ui[1] toi + Uj[1] toi - Vi[1] + Vj[1]\\end{matrix}\\right]$$"
      ],
      "text/plain": [
       "⎡-Ui[0]⋅toi + Uj[0]⋅toi - Vi[0] + Vj[0]⎤\n",
       "⎢                                      ⎥\n",
       "⎣-Ui[1]⋅toi + Uj[1]⋅toi - Vi[1] + Vj[1]⎦"
      ]
     },
     "execution_count": 5,
     "metadata": {},
     "output_type": "execute_result"
    }
   ],
   "source": [
    "e_toi = (v[j] + toi * u[j]) - (v[i] + toi * u[i])\n",
    "e_toi"
   ]
  },
  {
   "cell_type": "code",
   "execution_count": 6,
   "metadata": {},
   "outputs": [
    {
     "data": {
      "image/png": "[encoded data removed]",
      "text/latex": [
       "$$\\left[\\begin{matrix}- Ui[1] toi + Uj[1] toi - Vi[1] + Vj[1]\\\\Ui[0] toi - Uj[0] toi + Vi[0] - Vj[0]\\end{matrix}\\right]$$"
      ],
      "text/plain": [
       "⎡-Ui[1]⋅toi + Uj[1]⋅toi - Vi[1] + Vj[1]⎤\n",
       "⎢                                      ⎥\n",
       "⎣Ui[0]⋅toi - Uj[0]⋅toi + Vi[0] - Vj[0] ⎦"
      ]
     },
     "execution_count": 6,
     "metadata": {},
     "output_type": "execute_result"
    }
   ],
   "source": [
    "e_rot90_toi = sympy.Matrix([e_toi[1], -e_toi[0]])\n",
    "e_rot90_toi"
   ]
  },
  {
   "cell_type": "code",
   "execution_count": 7,
   "metadata": {},
   "outputs": [
    {
     "data": {
      "image/png": "[encoded data removed]",
      "text/latex": [
       "$$\\sqrt{\\left(Ui[0] toi - Uj[0] toi + Vi[0] - Vj[0]\\right)^{2} + \\left(Ui[1] toi - Uj[1] toi + Vi[1] - Vj[1]\\right)^{2}}$$"
      ],
      "text/plain": [
       "   ___________________________________________________________________________\n",
       "  ╱                                        2                                  \n",
       "╲╱  (Ui[0]⋅toi - Uj[0]⋅toi + Vi[0] - Vj[0])  + (Ui[1]⋅toi - Uj[1]⋅toi + Vi[1] \n",
       "\n",
       "__________\n",
       "        2 \n",
       "- Vj[1])  "
      ]
     },
     "execution_count": 7,
     "metadata": {},
     "output_type": "execute_result"
    }
   ],
   "source": [
    "e_length_toi = e_rot90_toi.norm()\n",
    "sympy.simplify(e_length_toi)"
   ]
  },
  {
   "cell_type": "code",
   "execution_count": 8,
   "metadata": {},
   "outputs": [
    {
     "data": {
      "image/png": "[encoded data removed]",
      "text/latex": [
       "$$\\left[\\begin{matrix}Ui[0] + \\alpha \\left(- Ui[0] + Uj[0]\\right)\\\\Ui[1] + \\alpha \\left(- Ui[1] + Uj[1]\\right)\\end{matrix}\\right]$$"
      ],
      "text/plain": [
       "⎡Ui[0] + α⋅(-Ui[0] + Uj[0])⎤\n",
       "⎢                          ⎥\n",
       "⎣Ui[1] + α⋅(-Ui[1] + Uj[1])⎦"
      ]
     },
     "execution_count": 8,
     "metadata": {},
     "output_type": "execute_result"
    }
   ],
   "source": [
    "u_ij = u[i] + alpha * (u[j] - u[i])\n",
    "u_ij"
   ]
  },
  {
   "cell_type": "code",
   "execution_count": 9,
   "metadata": {},
   "outputs": [
    {
     "data": {
      "image/png": "[encoded data removed]",
      "text/latex": [
       "$$\\left(Ui[0] + \\alpha \\left(- Ui[0] + Uj[0]\\right)\\right) \\left(- Ui[1] toi + Uj[1] toi - Vi[1] + Vj[1]\\right) + \\left(Ui[1] + \\alpha \\left(- Ui[1] + Uj[1]\\right)\\right) \\left(Ui[0] toi - Uj[0] toi + Vi[0] - Vj[0]\\right)$$"
      ],
      "text/plain": [
       "(Ui[0] + α⋅(-Ui[0] + Uj[0]))⋅(-Ui[1]⋅toi + Uj[1]⋅toi - Vi[1] + Vj[1]) + (Ui[1]\n",
       " + α⋅(-Ui[1] + Uj[1]))⋅(Ui[0]⋅toi - Uj[0]⋅toi + Vi[0] - Vj[0])"
      ]
     },
     "execution_count": 9,
     "metadata": {},
     "output_type": "execute_result"
    }
   ],
   "source": [
    "U_ij_dot_e_rot90_toi = (u_ij.T * e_rot90_toi)[0]\n",
    "U_ij_dot_e_rot90_toi"
   ]
  },
  {
   "cell_type": "code",
   "execution_count": 10,
   "metadata": {},
   "outputs": [],
   "source": [
    "volume = (1.0 - toi) * sympy.sqrt(epsilon **2 * e_length_toi **2 + U_ij_dot_e_rot90_toi **2)\n"
   ]
  },
  {
   "cell_type": "code",
   "execution_count": 11,
   "metadata": {},
   "outputs": [],
   "source": [
    "volume = sympy.Piecewise((-volume, volume > 0), (volume, True))"
   ]
  },
  {
   "cell_type": "code",
   "execution_count": 12,
   "metadata": {},
   "outputs": [],
   "source": [
    "from sympy import *\n",
    "from sympy.matrices import *\n",
    "from sympy.printing.ccode import C99CodePrinter\n",
    "from sympy.printing.precedence import precedence\n",
    "\n",
    "assert_ = sympy.Function('assert')\n",
    "\n",
    "\n",
    "custom_functions = {'assert':'assert'}\n",
    "class MyPrinter(C99CodePrinter):\n",
    "    pass\n",
    "\n",
    "def C99_print(expr, expr_names):\n",
    "    expr = [sympy.simplify(e) for e in expr]\n",
    "    CSE_results = cse(expr, numbered_symbols(\"helper_\"), optimizations='basic')\n",
    "    lines = []\n",
    "    for helper in CSE_results[0]:\n",
    "        if isinstance(helper[1], MatrixSymbol):\n",
    "            lines.append('const auto ' + str(helper[0]) + '[' + str(helper[1].rows * helper[1].cols) + '];\\n')\n",
    "            lines.append(ccode(helper[1], helper[0]))\n",
    "        else:\n",
    "            lines.append('const auto %s' % ccode(helper[1], helper[0]))\n",
    "\n",
    "    lines.append('')\n",
    "    for i, result in enumerate(CSE_results[1]):\n",
    "        name = expr_names[i]\n",
    "        if expr_names[i] == None:\n",
    "            lines.append(\"%s;\" % ccode(result, name))\n",
    "        else:\n",
    "            \n",
    "            lines.append(ccode(result, name))\n",
    "    return '\\n'.join(lines)\n",
    "\n",
    "my_printer = MyPrinter({'user_functions':custom_functions})\n",
    "def ccode(expr, assign_to=None):\n",
    "    return my_printer.doprint(expr, assign_to)\n",
    "\n"
   ]
  },
  {
   "cell_type": "code",
   "execution_count": 13,
   "metadata": {},
   "outputs": [
    {
     "name": "stdout",
     "output_type": "stream",
     "text": [
      "const auto helper_0 = Ui[0]*toi - Uj[0]*toi + Vi[0] - Vj[0];\n",
      "const auto helper_1 = Ui[1]*toi - Uj[1]*toi + Vi[1] - Vj[1];\n",
      "const auto helper_2 = pow(helper_0, 2) + pow(helper_1, 2);\n",
      "const auto helper_3 = helper_0*(Ui[1] - alpha*(Ui[1] - Uj[1]));\n",
      "const auto helper_4 = helper_1*(Ui[0] - alpha*(Ui[0] - Uj[0]));\n",
      "const auto helper_5 = (toi - 1.0)*sqrt(pow(epsilon, 2)*helper_2 + pow(-helper_3 + helper_4, 2));\n",
      "const auto helper_6 = -helper_5;\n",
      "\n",
      "assert(sqrt(helper_2) > 0);\n",
      "assert(helper_3 - helper_4 > 0);\n",
      "if (helper_6 > 0) {\n",
      "   volume = helper_5;\n",
      "}\n",
      "else {\n",
      "   volume = helper_6;\n",
      "}\n"
     ]
    }
   ],
   "source": [
    "results = [assert_(e_length_toi > 0), assert_(U_ij_dot_e_rot90_toi > 0), volume]\n",
    "results_names = [None, None, 'volume']\n",
    "print(C99_print(results, results_names))"
   ]
  },
  {
   "cell_type": "code",
   "execution_count": null,
   "metadata": {},
   "outputs": [],
   "source": []
  },
  {
   "cell_type": "code",
   "execution_count": null,
   "metadata": {},
   "outputs": [],
   "source": []
  }
 ],
 "metadata": {
  "kernelspec": {
   "display_name": "Python 3",
   "language": "python",
   "name": "python3"
  },
  "language_info": {
   "codemirror_mode": {
    "name": "ipython",
    "version": 3
   },
   "file_extension": ".py",
   "mimetype": "text/x-python",
   "name": "python",
   "nbconvert_exporter": "python",
   "pygments_lexer": "ipython3",
   "version": "3.7.6"
  }
 },
 "nbformat": 4,
 "nbformat_minor": 2
}
