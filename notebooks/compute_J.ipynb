{
 "cells": [
  {
   "cell_type": "markdown",
   "metadata": {},
   "source": [
    "# Compute $\\boldsymbol{J}$ in Kinetic Energy\n",
    "\n",
    "We can define the rotational kinetic energy of a single body as\n",
    "\n",
    "$$\n",
    "\\frac{1}{2} \\boldsymbol{\\omega}^{T} \\boldsymbol{I} \\boldsymbol{\\omega}=\\frac{1}{2} \\operatorname{tr}\\left([\\boldsymbol{\\omega}] \\boldsymbol{J}[\\boldsymbol{\\omega}]^{T}\\right),\n",
    "$$\n",
    "\n",
    "where $\\boldsymbol{J}$ is a diagonal PD matrix that ensures the equality above holds. The following notebook derives the definition of $\\boldsymbol{J}$."
   ]
  },
  {
   "cell_type": "code",
   "execution_count": 1,
   "metadata": {},
   "outputs": [],
   "source": [
    "import numpy\n",
    "from sympy import *\n",
    "from IPython.display import display, Math, Latex\n",
    "init_printing()"
   ]
  },
  {
   "cell_type": "code",
   "execution_count": 2,
   "metadata": {},
   "outputs": [],
   "source": [
    "def hat(x):\n",
    "    return numpy.array([\n",
    "        [0, -x[2], x[1]],\n",
    "        [x[2], 0, -x[0]],\n",
    "        [-x[1], x[0], 0]\n",
    "    ], dtype=x.dtype)"
   ]
  },
  {
   "cell_type": "code",
   "execution_count": 3,
   "metadata": {},
   "outputs": [],
   "source": [
    "omega = numpy.array(symbols(\"omega_x omega_y omega_z\"))\n",
    "I = numpy.diag(symbols(\"I_x I_y I_z\"))\n",
    "J = numpy.diag(symbols(\"J_0 J_1 J_2\"))"
   ]
  },
  {
   "cell_type": "code",
   "execution_count": 4,
   "metadata": {},
   "outputs": [
    {
     "data": {
      "image/png": "[encoded data removed]",
      "text/latex": [
       "$\\displaystyle I_{x} \\omega_{x}^{2} + I_{y} \\omega_{y}^{2} + I_{z} \\omega_{z}^{2}$"
      ],
      "text/plain": [
       "     2          2          2\n",
       "Iₓ⋅ωₓ  + I_y⋅ω_y  + I_z⋅ω_z "
      ]
     },
     "metadata": {},
     "output_type": "display_data"
    },
    {
     "data": {
      "image/png": "[encoded data removed]",
      "text/latex": [
       "$\\displaystyle \\left[ I_{x}, \\  I_{y}, \\  I_{z}\\right]$"
      ],
      "text/plain": [
       "[Iₓ, I_y, I_z]"
      ]
     },
     "metadata": {},
     "output_type": "display_data"
    }
   ],
   "source": [
    "lhs = omega.T @ I @ omega\n",
    "display(lhs.collect(omega))\n",
    "lhs_coeffs = [lhs.coeff(omega[i], 2) for i in range(omega.size)]\n",
    "display(lhs_coeffs)"
   ]
  },
  {
   "cell_type": "code",
   "execution_count": 5,
   "metadata": {},
   "outputs": [
    {
     "data": {
      "image/png": "[encoded data removed]",
      "text/latex": [
       "$\\displaystyle \\omega_{x}^{2} \\left(J_{1} + J_{2}\\right) + \\omega_{y}^{2} \\left(J_{0} + J_{2}\\right) + \\omega_{z}^{2} \\left(J_{0} + J_{1}\\right)$"
      ],
      "text/plain": [
       "  2                2                2          \n",
       "ωₓ ⋅(J₁ + J₂) + ω_y ⋅(J₀ + J₂) + ω_z ⋅(J₀ + J₁)"
      ]
     },
     "metadata": {},
     "output_type": "display_data"
    },
    {
     "data": {
      "image/png": "[encoded data removed]",
      "text/latex": [
       "$\\displaystyle \\left[ J_{1} + J_{2}, \\  J_{0} + J_{2}, \\  J_{0} + J_{1}\\right]$"
      ],
      "text/plain": [
       "[J₁ + J₂, J₀ + J₂, J₀ + J₁]"
      ]
     },
     "metadata": {},
     "output_type": "display_data"
    }
   ],
   "source": [
    "rhs = numpy.trace(hat(omega) @ J @ hat(omega).T)\n",
    "display(rhs.collect(omega))\n",
    "rhs_coeffs = [rhs.coeff(omega[i], 2) for i in range(omega.size)]\n",
    "display(rhs_coeffs)"
   ]
  },
  {
   "cell_type": "code",
   "execution_count": 9,
   "metadata": {},
   "outputs": [
    {
     "data": {
      "image/png": "[encoded data removed]",
      "text/latex": [
       "$\\displaystyle \\left[ I_{x} = J_{1} + J_{2}, \\  I_{y} = J_{0} + J_{2}, \\  I_{z} = J_{0} + J_{1}\\right]$"
      ],
      "text/plain": [
       "[Iₓ = J₁ + J₂, I_y = J₀ + J₂, I_z = J₀ + J₁]"
      ]
     },
     "metadata": {},
     "output_type": "display_data"
    },
    {
     "data": {
      "text/latex": [
       "$\\boldsymbol{J}=$"
      ],
      "text/plain": [
       "<IPython.core.display.Latex object>"
      ]
     },
     "metadata": {},
     "output_type": "display_data"
    },
    {
     "data": {
      "image/png": "[encoded data removed]",
      "text/latex": [
       "$\\displaystyle \\left[\\begin{matrix}- \\frac{I_{x}}{2} + \\frac{I_{y}}{2} + \\frac{I_{z}}{2} & 0 & 0\\\\0 & \\frac{I_{x}}{2} - \\frac{I_{y}}{2} + \\frac{I_{z}}{2} & 0\\\\0 & 0 & \\frac{I_{x}}{2} + \\frac{I_{y}}{2} - \\frac{I_{z}}{2}\\end{matrix}\\right]$"
      ],
      "text/plain": [
       "⎡  Iₓ   I_y   I_z                                ⎤\n",
       "⎢- ── + ─── + ───        0               0       ⎥\n",
       "⎢  2     2     2                                 ⎥\n",
       "⎢                                                ⎥\n",
       "⎢                  Iₓ   I_y   I_z                ⎥\n",
       "⎢       0          ── - ─── + ───        0       ⎥\n",
       "⎢                  2     2     2                 ⎥\n",
       "⎢                                                ⎥\n",
       "⎢                                  Iₓ   I_y   I_z⎥\n",
       "⎢       0                0         ── + ─── - ───⎥\n",
       "⎣                                  2     2     2 ⎦"
      ]
     },
     "metadata": {},
     "output_type": "display_data"
    }
   ],
   "source": [
    "eqs = [Eq(lhs_coeff, rhs_coeff) for lhs_coeff, rhs_coeff in zip(lhs_coeffs, rhs_coeffs)]\n",
    "display(eqs)\n",
    "J_of_I = solve(eqs, numpy.diag(J).tolist())\n",
    "J_solved = numpy.diag([J_of_I[numpy.diag(J)[i]] for i in range(3)])\n",
    "display(Latex(\"$\\\\boldsymbol{J}=$\"), Matrix(J_solved))"
   ]
  },
  {
   "cell_type": "code",
   "execution_count": 7,
   "metadata": {},
   "outputs": [
    {
     "data": {
      "image/png": "[encoded data removed]",
      "text/latex": [
       "$\\displaystyle x^{2} \\left(- \\frac{I_{x}}{2} + \\frac{I_{y}}{2} + \\frac{I_{z}}{2}\\right) + y^{2} \\left(\\frac{I_{x}}{2} - \\frac{I_{y}}{2} + \\frac{I_{z}}{2}\\right) + z^{2} \\left(\\frac{I_{x}}{2} + \\frac{I_{y}}{2} - \\frac{I_{z}}{2}\\right)$"
      ],
      "text/plain": [
       " 2 ⎛  Iₓ   I_y   I_z⎞    2 ⎛Iₓ   I_y   I_z⎞    2 ⎛Iₓ   I_y   I_z⎞\n",
       "x ⋅⎜- ── + ─── + ───⎟ + y ⋅⎜── - ─── + ───⎟ + z ⋅⎜── + ─── - ───⎟\n",
       "   ⎝  2     2     2 ⎠      ⎝2     2     2 ⎠      ⎝2     2     2 ⎠"
      ]
     },
     "execution_count": 7,
     "metadata": {},
     "output_type": "execute_result"
    }
   ],
   "source": [
    "x = numpy.array(symbols(\"x y z\"), dtype=Symbol)\n",
    "(x.T @ J_solved @ x).collect(numpy.diag(I))"
   ]
  },
  {
   "cell_type": "code",
   "execution_count": null,
   "metadata": {},
   "outputs": [],
   "source": []
  },
  {
   "cell_type": "markdown",
   "metadata": {},
   "source": [
    "# Derivatives of $Q=exp(a)$\n",
    "\\begin{align}\n",
    "Q  &= I + \\sin(\\|a\\|)\\left[\\frac{a}{\\|a\\|}\\right] + (1 - \\cos(\\|a\\|))\\left[\\frac{a}{\\|a\\|}\\right]\\left[\\frac{a}{\\|a\\|}\\right]\\\\\n",
    "\\end{align}\n",
    "where $a$ is an rotation vector."
   ]
  },
  {
   "cell_type": "code",
   "execution_count": 48,
   "metadata": {},
   "outputs": [],
   "source": [
    "def norm(x):\n",
    "    return sqrt(sum(x))"
   ]
  },
  {
   "cell_type": "code",
   "execution_count": 49,
   "metadata": {},
   "outputs": [
    {
     "data": {
      "image/png": "[encoded data removed]",
      "text/latex": [
       "$\\displaystyle \\left[\\begin{matrix}- \\frac{a_{y}^{2} \\left(1 - \\cos{\\left(\\sqrt{a_{x} + a_{y} + a_{z}} \\right)}\\right)}{a_{x} + a_{y} + a_{z}} - \\frac{a_{z}^{2} \\left(1 - \\cos{\\left(\\sqrt{a_{x} + a_{y} + a_{z}} \\right)}\\right)}{a_{x} + a_{y} + a_{z}} + 1.0 & \\frac{a_{x} a_{y} \\left(1 - \\cos{\\left(\\sqrt{a_{x} + a_{y} + a_{z}} \\right)}\\right)}{a_{x} + a_{y} + a_{z}} - \\frac{a_{z} \\sin{\\left(\\sqrt{a_{x} + a_{y} + a_{z}} \\right)}}{\\sqrt{a_{x} + a_{y} + a_{z}}} & \\frac{a_{x} a_{z} \\left(1 - \\cos{\\left(\\sqrt{a_{x} + a_{y} + a_{z}} \\right)}\\right)}{a_{x} + a_{y} + a_{z}} + \\frac{a_{y} \\sin{\\left(\\sqrt{a_{x} + a_{y} + a_{z}} \\right)}}{\\sqrt{a_{x} + a_{y} + a_{z}}}\\\\\\frac{a_{x} a_{y} \\left(1 - \\cos{\\left(\\sqrt{a_{x} + a_{y} + a_{z}} \\right)}\\right)}{a_{x} + a_{y} + a_{z}} + \\frac{a_{z} \\sin{\\left(\\sqrt{a_{x} + a_{y} + a_{z}} \\right)}}{\\sqrt{a_{x} + a_{y} + a_{z}}} & - \\frac{a_{x}^{2} \\left(1 - \\cos{\\left(\\sqrt{a_{x} + a_{y} + a_{z}} \\right)}\\right)}{a_{x} + a_{y} + a_{z}} - \\frac{a_{z}^{2} \\left(1 - \\cos{\\left(\\sqrt{a_{x} + a_{y} + a_{z}} \\right)}\\right)}{a_{x} + a_{y} + a_{z}} + 1.0 & - \\frac{a_{x} \\sin{\\left(\\sqrt{a_{x} + a_{y} + a_{z}} \\right)}}{\\sqrt{a_{x} + a_{y} + a_{z}}} + \\frac{a_{y} a_{z} \\left(1 - \\cos{\\left(\\sqrt{a_{x} + a_{y} + a_{z}} \\right)}\\right)}{a_{x} + a_{y} + a_{z}}\\\\\\frac{a_{x} a_{z} \\left(1 - \\cos{\\left(\\sqrt{a_{x} + a_{y} + a_{z}} \\right)}\\right)}{a_{x} + a_{y} + a_{z}} - \\frac{a_{y} \\sin{\\left(\\sqrt{a_{x} + a_{y} + a_{z}} \\right)}}{\\sqrt{a_{x} + a_{y} + a_{z}}} & \\frac{a_{x} \\sin{\\left(\\sqrt{a_{x} + a_{y} + a_{z}} \\right)}}{\\sqrt{a_{x} + a_{y} + a_{z}}} + \\frac{a_{y} a_{z} \\left(1 - \\cos{\\left(\\sqrt{a_{x} + a_{y} + a_{z}} \\right)}\\right)}{a_{x} + a_{y} + a_{z}} & - \\frac{a_{x}^{2} \\left(1 - \\cos{\\left(\\sqrt{a_{x} + a_{y} + a_{z}} \\right)}\\right)}{a_{x} + a_{y} + a_{z}} - \\frac{a_{y}^{2} \\left(1 - \\cos{\\left(\\sqrt{a_{x} + a_{y} + a_{z}} \\right)}\\right)}{a_{x} + a_{y} + a_{z}} + 1.0\\end{matrix}\\right]$"
      ],
      "text/plain": [
       "⎡     2 ⎛       ⎛  ________________⎞⎞      2 ⎛       ⎛  ________________⎞⎞    \n",
       "⎢  a_y ⋅⎝1 - cos⎝╲╱ aₓ + a_y + a_z ⎠⎠   a_z ⋅⎝1 - cos⎝╲╱ aₓ + a_y + a_z ⎠⎠    \n",
       "⎢- ────────────────────────────────── - ────────────────────────────────── + 1\n",
       "⎢            aₓ + a_y + a_z                       aₓ + a_y + a_z              \n",
       "⎢                                                                             \n",
       "⎢                                                                             \n",
       "⎢             ⎛       ⎛  ________________⎞⎞          ⎛  ________________⎞     \n",
       "⎢      aₓ⋅a_y⋅⎝1 - cos⎝╲╱ aₓ + a_y + a_z ⎠⎠   a_z⋅sin⎝╲╱ aₓ + a_y + a_z ⎠     \n",
       "⎢      ──────────────────────────────────── + ───────────────────────────     \n",
       "⎢                 aₓ + a_y + a_z                     ________________         \n",
       "⎢                                                  ╲╱ aₓ + a_y + a_z          \n",
       "⎢                                                                             \n",
       "⎢             ⎛       ⎛  ________________⎞⎞          ⎛  ________________⎞     \n",
       "⎢      aₓ⋅a_z⋅⎝1 - cos⎝╲╱ aₓ + a_y + a_z ⎠⎠   a_y⋅sin⎝╲╱ aₓ + a_y + a_z ⎠     \n",
       "⎢      ──────────────────────────────────── - ───────────────────────────     \n",
       "⎢                 aₓ + a_y + a_z                     ________________         \n",
       "⎣                                                  ╲╱ aₓ + a_y + a_z          \n",
       "\n",
       "                 ⎛       ⎛  ________________⎞⎞          ⎛  ________________⎞  \n",
       "          aₓ⋅a_y⋅⎝1 - cos⎝╲╱ aₓ + a_y + a_z ⎠⎠   a_z⋅sin⎝╲╱ aₓ + a_y + a_z ⎠  \n",
       ".0        ──────────────────────────────────── - ───────────────────────────  \n",
       "                     aₓ + a_y + a_z                     ________________      \n",
       "                                                      ╲╱ aₓ + a_y + a_z       \n",
       "                                                                              \n",
       "        2 ⎛       ⎛  ________________⎞⎞      2 ⎛       ⎛  ________________⎞⎞  \n",
       "      aₓ ⋅⎝1 - cos⎝╲╱ aₓ + a_y + a_z ⎠⎠   a_z ⋅⎝1 - cos⎝╲╱ aₓ + a_y + a_z ⎠⎠  \n",
       "    - ───────────────────────────────── - ────────────────────────────────── +\n",
       "                aₓ + a_y + a_z                      aₓ + a_y + a_z            \n",
       "                                                                              \n",
       "                                                                              \n",
       "                ⎛  ________________⎞           ⎛       ⎛  ________________⎞⎞  \n",
       "          aₓ⋅sin⎝╲╱ aₓ + a_y + a_z ⎠   a_y⋅a_z⋅⎝1 - cos⎝╲╱ aₓ + a_y + a_z ⎠⎠  \n",
       "          ────────────────────────── + ─────────────────────────────────────  \n",
       "                ________________                   aₓ + a_y + a_z             \n",
       "              ╲╱ aₓ + a_y + a_z                                               \n",
       "\n",
       "                   ⎛       ⎛  ________________⎞⎞          ⎛  ________________⎞\n",
       "            aₓ⋅a_z⋅⎝1 - cos⎝╲╱ aₓ + a_y + a_z ⎠⎠   a_y⋅sin⎝╲╱ aₓ + a_y + a_z ⎠\n",
       "            ──────────────────────────────────── + ───────────────────────────\n",
       "                       aₓ + a_y + a_z                     ________________    \n",
       "                                                        ╲╱ aₓ + a_y + a_z     \n",
       "                                                                              \n",
       "                   ⎛  ________________⎞           ⎛       ⎛  ________________⎞\n",
       "             aₓ⋅sin⎝╲╱ aₓ + a_y + a_z ⎠   a_y⋅a_z⋅⎝1 - cos⎝╲╱ aₓ + a_y + a_z ⎠\n",
       " 1.0       - ────────────────────────── + ────────────────────────────────────\n",
       "                   ________________                   aₓ + a_y + a_z          \n",
       "                 ╲╱ aₓ + a_y + a_z                                            \n",
       "                                                                              \n",
       "          2 ⎛       ⎛  ________________⎞⎞      2 ⎛       ⎛  ________________⎞⎞\n",
       "        aₓ ⋅⎝1 - cos⎝╲╱ aₓ + a_y + a_z ⎠⎠   a_y ⋅⎝1 - cos⎝╲╱ aₓ + a_y + a_z ⎠⎠\n",
       "      - ───────────────────────────────── - ──────────────────────────────────\n",
       "                  aₓ + a_y + a_z                      aₓ + a_y + a_z          \n",
       "                                                                              \n",
       "\n",
       "      ⎤\n",
       "      ⎥\n",
       "      ⎥\n",
       "      ⎥\n",
       "      ⎥\n",
       "      ⎥\n",
       "⎞     ⎥\n",
       "⎠     ⎥\n",
       "─     ⎥\n",
       "      ⎥\n",
       "      ⎥\n",
       "      ⎥\n",
       "      ⎥\n",
       "      ⎥\n",
       " + 1.0⎥\n",
       "      ⎥\n",
       "      ⎦"
      ]
     },
     "metadata": {},
     "output_type": "display_data"
    }
   ],
   "source": [
    "a = numpy.array(symbols(\"a_x a_y a_z\"))\n",
    "angle = norm(a)\n",
    "axis = a / norm(a)\n",
    "K = hat(axis)\n",
    "Q = numpy.eye(3) + sin(angle) * K + (1 - cos(angle)) * K @ K\n",
    "display(Matrix(Q))"
   ]
  },
  {
   "cell_type": "code",
   "execution_count": 50,
   "metadata": {},
   "outputs": [
    {
     "data": {
      "image/png": "[encoded data removed]",
      "text/latex": [
       "$\\displaystyle \\left( 3, \\  3, \\  3\\right)$"
      ],
      "text/plain": [
       "(3, 3, 3)"
      ]
     },
     "execution_count": 50,
     "metadata": {},
     "output_type": "execute_result"
    }
   ],
   "source": [
    "Q_grad = Matrix(Q).diff(a)\n",
    "Q_grad.shape"
   ]
  },
  {
   "cell_type": "code",
   "execution_count": 51,
   "metadata": {},
   "outputs": [
    {
     "data": {
      "image/png": "[encoded data removed]",
      "text/latex": [
       "$\\displaystyle \\left( 3, \\  3, \\  3, \\  3\\right)$"
      ],
      "text/plain": [
       "(3, 3, 3, 3)"
      ]
     },
     "execution_count": 51,
     "metadata": {},
     "output_type": "execute_result"
    }
   ],
   "source": [
    "Q_hess = Q_grad.diff(a)\n",
    "Q_hess.shape"
   ]
  },
  {
   "cell_type": "code",
   "execution_count": null,
   "metadata": {},
   "outputs": [],
   "source": []
  },
  {
   "cell_type": "code",
   "execution_count": null,
   "metadata": {},
   "outputs": [],
   "source": []
  }
 ],
 "metadata": {
  "kernelspec": {
   "display_name": "Python 3",
   "language": "python",
   "name": "python3"
  },
  "language_info": {
   "codemirror_mode": {
    "name": "ipython",
    "version": 3
   },
   "file_extension": ".py",
   "mimetype": "text/x-python",
   "name": "python",
   "nbconvert_exporter": "python",
   "pygments_lexer": "ipython3",
   "version": "3.8.2"
  }
 },
 "nbformat": 4,
 "nbformat_minor": 4
}
