{
 "cells": [
  {
   "cell_type": "markdown",
   "metadata": {},
   "source": [
    "# Restitution\n",
    "\n",
    "**Definition:**\n",
    "> The coefficient of restitution (COR), also denoted by ($c_r$), is the ratio of the final to initial relative velocity between two objects after they collide. It normally ranges from 0 to 1 where 1 would be a perfectly elastic collision. A perfectly inelastic collision has a coefficient of 0, but a 0 value does not have to be perfectly inelastic.\n",
    "\n",
    "Our system already exhibits restitutive properties. However, the restitution is not directly controllable and depends on a variety of parameters (e.g., $h$, $\\hat{d}$, and $\\kappa$) and the integration scheme. \n",
    "\n",
    "Let us start by examining the restitutive properties of our formulation using a one dimensional example. A particle ($x_0=10$) is falling towards a ground plane ($x=0$). To handle collisions we use our IPC barrier directly on the $x$ position."
   ]
  },
  {
   "cell_type": "code",
   "execution_count": null,
   "metadata": {},
   "outputs": [],
   "source": [
    "import numpy\n",
    "import plotly.graph_objects as go"
   ]
  },
  {
   "cell_type": "markdown",
   "metadata": {},
   "source": [
    "We will start by defining the implicit Euler time-integration scheme in variational form\n",
    "\\begin{equation}\n",
    "E(x) = \\frac{1}{2}m(x-\\hat{x})^2,\n",
    "\\end{equation}\n",
    "where $\\hat{x}$ for implicit Euler is \n",
    "\\begin{equation}\n",
    "\\hat{x} = x^t + hv^t + h^2g,\n",
    "\\end{equation}\n",
    "and for implicit Newmark ($\\gamma=\\frac{1}{2}$, $\\beta = \\frac{1}{4}$) is\n",
    "\\begin{equation}\n",
    "\\hat{x} = x^t + hv^t + h^2g + \\frac{h^2}{2}m^{-1}V(x_t),\n",
    "\\end{equation}\n",
    "The next value of $x$ is then given as \n",
    "\\begin{equation}\n",
    "x^{t+1} = \\text{arg}\\min_x E(x),\n",
    "\\end{equation}\n",
    "and we using an explicit update for the velocity\n",
    "\\begin{equation}\n",
    "v^{t+1} = \\frac{x^{t+1} - x^t}{h}.\n",
    "\\end{equation}"
   ]
  },
  {
   "cell_type": "code",
   "execution_count": null,
   "metadata": {},
   "outputs": [],
   "source": [
    "def euler_update(x_t, v_t, g, h, m):\n",
    "    \"\"\"Euler update for (γ=1/2 and β=1/4).\"\"\"\n",
    "    return x_t + h * (v_t + h * g)\n",
    "\n",
    "\n",
    "def newmark_update(x_t, v_t, g, h, m, V):\n",
    "    \"\"\"Newmark update for (γ=1/2 and β=1/4).\"\"\"\n",
    "    return x_t + h * (v_t + h * (g + 0.5 * V(x_t)))\n",
    "\n",
    "\n",
    "def E(x, m, xhat):\n",
    "    return 0.5 * m * (x - xhat)**2\n",
    "\n",
    "\n",
    "# We also need the derivative of E in order to minimize Equation E(x)\n",
    "def dE(x, m, xhat):\n",
    "    return m * (x - xhat)\n",
    "\n",
    "\n",
    "def ddE(x, m, xhat):\n",
    "    return m"
   ]
  },
  {
   "cell_type": "markdown",
   "metadata": {},
   "source": [
    "To handle collision we will use the IPC barrier\n",
    "$$\n",
    "B(x) = -\\ln\\left(\\frac{x}{\\hat{d}}\\right)(x-\\hat{d})^2.\n",
    "$$\n",
    "Our variational form integration then becomes\n",
    "$$\n",
    "x^{t+1} = \\text{arg}\\min_x E(x)+\\kappa B(x),\n",
    "$$\n",
    "where $\\kappa$ is our barrier stiffness."
   ]
  },
  {
   "cell_type": "code",
   "execution_count": null,
   "metadata": {},
   "outputs": [],
   "source": [
    "def B(x, dhat):\n",
    "    if x >= dhat:\n",
    "        return 0\n",
    "    if x <= 0:\n",
    "        return numpy.infty\n",
    "    return -numpy.log(x / dhat) * (x - dhat)**2\n",
    "\n",
    "\n",
    "def dB(x, dhat):\n",
    "    if x <= 0 or x >= dhat:\n",
    "        return 0\n",
    "    return (dhat - x) * (2 * numpy.log(x / dhat) - dhat / x + 1)\n",
    "\n",
    "\n",
    "def ddB(x, dhat):\n",
    "    if x <= 0 or x >= dhat:\n",
    "        return 0\n",
    "    dhat_over_x = dhat / x\n",
    "    return (dhat_over_x + 2) * dhat_over_x - 2 * numpy.log(x / dhat) - 3"
   ]
  },
  {
   "cell_type": "markdown",
   "metadata": {},
   "source": [
    "We minimize our energy using a simple Newton method with line-search."
   ]
  },
  {
   "cell_type": "code",
   "execution_count": null,
   "metadata": {},
   "outputs": [],
   "source": [
    "def newton(f, df, ddf, x0, h, conv_tol=1e-5):\n",
    "    x = x0\n",
    "    for i in range(100):\n",
    "        fx = f(x)\n",
    "        dfx = df(x)\n",
    "        ddfx = ddf(x)\n",
    "        delta_x = -dfx / ddfx\n",
    "\n",
    "        if abs(delta_x) / h < conv_tol:\n",
    "            # print(f\"found minimum (delta_x={delta_x:g})\")\n",
    "            break\n",
    "\n",
    "        step_size = 1\n",
    "        # Line search:\n",
    "        # No need to check for x < 0 because x is signed and B(x) = infinity if x < 0.\n",
    "        while step_size > 0 and f(x + step_size * delta_x) >= fx:\n",
    "            step_size /= 2\n",
    "\n",
    "        if step_size == 0:\n",
    "            print(\"line-search failed\")\n",
    "            break\n",
    "\n",
    "        x += step_size * delta_x\n",
    "    return x"
   ]
  },
  {
   "cell_type": "code",
   "execution_count": null,
   "metadata": {},
   "outputs": [],
   "source": [
    "def sim(m=1,\n",
    "        x_t=10,\n",
    "        v_t=-10,\n",
    "        g=0,\n",
    "        h=1e-3,\n",
    "        dhat=1e-3,\n",
    "        kappa=100,\n",
    "        conv_tol=1e-5,\n",
    "        use_newmark=False):\n",
    "    t = 0\n",
    "    xs = [x_t]\n",
    "    vs = [v_t]\n",
    "    while t < 9.999:\n",
    "        if use_newmark:\n",
    "            xhat = newmark_update(x_t, v_t, g, h, m, lambda x: B(x, dhat))\n",
    "        else:\n",
    "            xhat = euler_update(x_t, v_t, g, h, m)\n",
    "        x = newton(lambda x: E(x, m, xhat) + kappa * B(x, dhat),\n",
    "                   lambda x: dE(x, m, xhat) + kappa * dB(x, dhat),\n",
    "                   lambda x: ddE(x, m, xhat) + kappa * ddB(x, dhat), x_t, h,\n",
    "                   conv_tol)\n",
    "        v_t = (x - x_t) / h\n",
    "        x_t = x\n",
    "        t += h\n",
    "        xs.append(x)\n",
    "        vs.append(v_t)\n",
    "    return xs, vs"
   ]
  },
  {
   "cell_type": "code",
   "execution_count": null,
   "metadata": {},
   "outputs": [],
   "source": [
    "x_data = []\n",
    "v_data = []\n",
    "\n",
    "for use_newmark in False, True:\n",
    "    xs, vs = sim(h=1e-4,\n",
    "                 dhat=1e-3,\n",
    "                 kappa=100,\n",
    "                 conv_tol=1e-5,\n",
    "                 use_newmark=use_newmark)\n",
    "    ts = numpy.arange(len(xs)) / (len(xs) - 1) * 10\n",
    "    x_data.append(\n",
    "        go.Scatter(x=ts, y=xs, name=(\"Newmark\" if use_newmark else \"Euler\")))\n",
    "    v_data.append(\n",
    "        go.Scatter(x=ts, y=vs, name=(\"Newmark\" if use_newmark else \"Euler\")))\n",
    "\n",
    "fig = go.Figure(data=x_data)\n",
    "fig.update_layout(\n",
    "    title=\n",
    "    \"Constant Velocity (Position) (h=1e-4, dhat=1e-3, kappa=100, conv_tol=1e-5)\",\n",
    "    xaxis_title=\"t\")\n",
    "fig.show()\n",
    "fig = go.Figure(data=v_data)\n",
    "fig.update_layout(\n",
    "    title=\n",
    "    \"Constant Velocity (Velocity) (h=1e-4, dhat=1e-3, kappa=100, conv_tol=1e-5)\",\n",
    "    xaxis_title=\"t\")\n",
    "fig.show()"
   ]
  },
  {
   "cell_type": "code",
   "execution_count": null,
   "metadata": {},
   "outputs": [],
   "source": [
    "xs, vs = sim(g=-9.8, h=1e-4, dhat=1e-3, kappa=100, conv_tol=1e-5)\n",
    "ts = numpy.arange(len(xs)) / (len(xs) - 1) * 10\n",
    "fig = go.Figure(data=[go.Scatter(x=ts, y=xs, name=\"height\")])\n",
    "fig.update_layout(\n",
    "    title=\"Under Gravity (h=1e-4, dhat=1e-3, kappa=100, conv_tol=1e-5)\",\n",
    "    xaxis_title=\"t\",\n",
    "    yaxis_title=\"height\")\n",
    "fig.show()"
   ]
  },
  {
   "cell_type": "code",
   "execution_count": null,
   "metadata": {},
   "outputs": [],
   "source": [
    "data = []\n",
    "for dhat in numpy.logspace(0, -6, 7):\n",
    "    xs, _ = sim(h=1e-3, dhat=dhat, kappa=100, conv_tol=1e-5)\n",
    "    ts = numpy.arange(len(xs)) / (len(xs) - 1) * 10\n",
    "    data.append(go.Scatter(x=ts, y=xs, name=f\"dhat={dhat:g}\"))\n",
    "fig = go.Figure(data=data)\n",
    "fig.update_layout(title=\"Varying dhat (h=1e-3, kappa=100, conv_tol=1e-5)\",\n",
    "                  xaxis_title=\"t\",\n",
    "                  yaxis_title=\"height\")\n",
    "fig.show()"
   ]
  },
  {
   "cell_type": "code",
   "execution_count": null,
   "metadata": {},
   "outputs": [],
   "source": [
    "data = []\n",
    "for h in numpy.logspace(0, -5, 6):\n",
    "    xs, _ = sim(h=h, dhat=1e-3, kappa=100, conv_tol=1e-5)\n",
    "    ts = numpy.arange(len(xs)) / (len(xs) - 1) * 10\n",
    "    data.append(go.Scatter(x=ts, y=xs, name=f\"h={h:g}\"))\n",
    "fig = go.Figure(data=data)\n",
    "fig.update_layout(title=\"Varying h (dhat=1e-3, kappa=100, conv_tol=1e-5)\",\n",
    "                  xaxis_title=\"t\",\n",
    "                  yaxis_title=\"height\")\n",
    "fig.show()"
   ]
  },
  {
   "cell_type": "code",
   "execution_count": null,
   "metadata": {},
   "outputs": [],
   "source": [
    "data = []\n",
    "for kappa in numpy.logspace(0, 8, 9):\n",
    "    xs, _ = sim(h=1e-3, dhat=1e-3, kappa=kappa, conv_tol=1e-5)\n",
    "    ts = numpy.arange(len(xs)) / (len(xs) - 1) * 10\n",
    "    data.append(go.Scatter(x=ts, y=xs, name=f\"kappa={kappa:g}\"))\n",
    "fig = go.Figure(data=data)\n",
    "fig.update_layout(title=\"Varying kappa (h=1e-3, dhat=1e-3, conv_tol=1e-5)\",\n",
    "                  xaxis_title=\"t\",\n",
    "                  yaxis_title=\"height\")\n",
    "fig.show()"
   ]
  },
  {
   "cell_type": "code",
   "execution_count": null,
   "metadata": {},
   "outputs": [],
   "source": [
    "data = []\n",
    "for conv_tol in numpy.logspace(-1, -10, 10):\n",
    "    xs, _ = sim(h=1e-3, dhat=1e-3, kappa=100, conv_tol=conv_tol)\n",
    "    ts = numpy.arange(len(xs)) / (len(xs) - 1) * 10\n",
    "    data.append(go.Scatter(x=ts, y=xs, name=f\"conv_tol={conv_tol:g}\"))\n",
    "fig = go.Figure(data=data)\n",
    "fig.update_layout(title=\"Varying conv_tol (h=1e-3, dhat=1e-3, kappa=100)\",\n",
    "                  xaxis_title=\"t\",\n",
    "                  yaxis_title=\"height\")\n",
    "fig.show()"
   ]
  },
  {
   "cell_type": "code",
   "execution_count": null,
   "metadata": {},
   "outputs": [],
   "source": [
    "data = []\n",
    "for v0 in numpy.linspace(-2, -50, 10):\n",
    "    xs, vs = sim(v_t=v0, h=1e-3, dhat=1e-3, kappa=100, conv_tol=1e-5)\n",
    "    ts = numpy.arange(len(xs)) / (len(xs) - 1) * 10\n",
    "    data.append(go.Scatter(x=ts, y=abs((numpy.array(vs) / v0)), name=f\"v0={v0:g}\"))\n",
    "fig = go.Figure(data=data)\n",
    "fig.update_layout(title=\"Varying v0 (h=1e-3, dhat=1e-3, kappa=100, conv_tol=1e-5)\",\n",
    "                  xaxis_title=\"t\",\n",
    "                  yaxis_title=\"v / v0\")\n",
    "fig.show()"
   ]
  },
  {
   "cell_type": "code",
   "execution_count": null,
   "metadata": {},
   "outputs": [],
   "source": []
  }
 ],
 "metadata": {
  "kernelspec": {
   "display_name": "Python 3",
   "language": "python",
   "name": "python3"
  },
  "language_info": {
   "codemirror_mode": {
    "name": "ipython",
    "version": 3
   },
   "file_extension": ".py",
   "mimetype": "text/x-python",
   "name": "python",
   "nbconvert_exporter": "python",
   "pygments_lexer": "ipython3",
   "version": "3.8.6"
  },
  "varInspector": {
   "cols": {
    "lenName": 16,
    "lenType": 16,
    "lenVar": 40
   },
   "kernels_config": {
    "python": {
     "delete_cmd_postfix": "",
     "delete_cmd_prefix": "del ",
     "library": "var_list.py",
     "varRefreshCmd": "print(var_dic_list())"
    },
    "r": {
     "delete_cmd_postfix": ") ",
     "delete_cmd_prefix": "rm(",
     "library": "var_list.r",
     "varRefreshCmd": "cat(var_dic_list()) "
    }
   },
   "types_to_exclude": [
    "module",
    "function",
    "builtin_function_or_method",
    "instance",
    "_Feature"
   ],
   "window_display": false
  }
 },
 "nbformat": 4,
 "nbformat_minor": 4
}
