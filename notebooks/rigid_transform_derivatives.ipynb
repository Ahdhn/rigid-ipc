{
 "cells": [
  {
   "cell_type": "markdown",
   "metadata": {},
   "source": [
    "# Derivatives of Rigid Transforms\n",
    "$$\n",
    "x(R, p) = Rx_0 + p\n",
    "$$\n",
    "we want to compute \n",
    "$$\n",
    "\\frac{\\partial}{\\partial R} x\n",
    "$$\n",
    "and\n",
    "$$\n",
    "\\frac{\\partial}{\\partial p} x\n",
    "$$"
   ]
  },
  {
   "cell_type": "code",
   "execution_count": 18,
   "metadata": {},
   "outputs": [],
   "source": [
    "#import numpy\n",
    "from sympy import *\n",
    "from IPython.display import Latex, Math, display"
   ]
  },
  {
   "cell_type": "code",
   "execution_count": 19,
   "metadata": {},
   "outputs": [],
   "source": [
    "def hat(x):\n",
    "    return Matrix([[0, -x[2], x[1]], \n",
    "                   [x[2], 0, -x[0]], \n",
    "                   [-x[1], x[0], 0]])"
   ]
  },
  {
   "cell_type": "code",
   "execution_count": 20,
   "metadata": {},
   "outputs": [],
   "source": [
    "# Compute R from rotation vector\n",
    "sinc_normx = Function(\"sinc_normx\")\n",
    "r = Matrix(symbols(\"r_x r_y r_z\"))\n",
    "K = hat(r)\n",
    "R = eye(3) + sinc_normx(r) * K + 0.5 * sinc_normx(r / 2)**2 * K @ K\n",
    "# R.simplify()\n",
    "# display(R)"
   ]
  },
  {
   "cell_type": "code",
   "execution_count": 50,
   "metadata": {},
   "outputs": [],
   "source": [
    "x0 = Matrix(symbols(\"x_0 y_0 z_0\"))\n",
    "p = Matrix(symbols(\"p_x p_y p_z\"))\n",
    "x = Matrix(R @ x0 + p)\n",
    "# x.simpli\n",
    "# display(x)"
   ]
  },
  {
   "cell_type": "code",
   "execution_count": 58,
   "metadata": {},
   "outputs": [
    {
     "data": {
      "text/latex": [
       "$\\displaystyle \\left[\\begin{matrix}\\left[\\begin{matrix}0 & 0 & 0\\\\0 & 0 & 0\\\\0 & 0 & 0\\end{matrix}\\right]\\\\\\left[\\begin{matrix}0 & 0 & 0\\\\0 & 0 & 0\\\\0 & 0 & 0\\end{matrix}\\right]\\\\\\left[\\begin{matrix}0 & 0 & 0\\\\0 & 0 & 0\\\\0 & 0 & 0\\end{matrix}\\right]\\end{matrix}\\right]$"
      ],
      "text/plain": [
       "[[[[0, 0, 0], [0, 0, 0], [0, 0, 0]]], [[[0, 0, 0], [0, 0, 0], [0, 0, 0]]], [[[0, 0, 0], [0, 0, 0], [0, 0, 0]]]]"
      ]
     },
     "metadata": {},
     "output_type": "display_data"
    }
   ],
   "source": [
    "display(x.diff(p).reshape(3, 3).diff(p))\n",
    "# display(x.diff(p).diff(p))"
   ]
  },
  {
   "cell_type": "code",
   "execution_count": null,
   "metadata": {
    "scrolled": true
   },
   "outputs": [],
   "source": [
    "#display(x.diff(r))\n",
    "# display(x.diff(R).diff(R))\n",
    "display(x.diff(r[0]))"
   ]
  },
  {
   "cell_type": "code",
   "execution_count": 49,
   "metadata": {},
   "outputs": [
    {
     "data": {
      "text/latex": [
       "$\\displaystyle \\left[\\begin{matrix}\\left[\\begin{matrix}0 & - \\frac{z \\left(\\operatorname{re}{\\left(x\\right)} \\frac{d}{d x} \\operatorname{re}{\\left(x\\right)} + \\operatorname{im}{\\left(x\\right)} \\frac{d}{d x} \\operatorname{im}{\\left(x\\right)}\\right) \\left|{x}\\right| \\operatorname{sign}{\\left(x \\right)} \\left. \\frac{d}{d \\xi_{1}} f{\\left(\\xi_{1} \\right)} \\right|_{\\substack{ \\xi_{1}=\\sqrt{\\left|{x}\\right|^{2} + \\left|{y}\\right|^{2} + \\left|{z}\\right|^{2}} }}}{x \\sqrt{\\left|{x}\\right|^{2} + \\left|{y}\\right|^{2} + \\left|{z}\\right|^{2}}} & \\frac{y \\left(\\operatorname{re}{\\left(x\\right)} \\frac{d}{d x} \\operatorname{re}{\\left(x\\right)} + \\operatorname{im}{\\left(x\\right)} \\frac{d}{d x} \\operatorname{im}{\\left(x\\right)}\\right) \\left|{x}\\right| \\operatorname{sign}{\\left(x \\right)} \\left. \\frac{d}{d \\xi_{1}} f{\\left(\\xi_{1} \\right)} \\right|_{\\substack{ \\xi_{1}=\\sqrt{\\left|{x}\\right|^{2} + \\left|{y}\\right|^{2} + \\left|{z}\\right|^{2}} }}}{x \\sqrt{\\left|{x}\\right|^{2} + \\left|{y}\\right|^{2} + \\left|{z}\\right|^{2}}}\\\\\\frac{z \\left(\\operatorname{re}{\\left(x\\right)} \\frac{d}{d x} \\operatorname{re}{\\left(x\\right)} + \\operatorname{im}{\\left(x\\right)} \\frac{d}{d x} \\operatorname{im}{\\left(x\\right)}\\right) \\left|{x}\\right| \\operatorname{sign}{\\left(x \\right)} \\left. \\frac{d}{d \\xi_{1}} f{\\left(\\xi_{1} \\right)} \\right|_{\\substack{ \\xi_{1}=\\sqrt{\\left|{x}\\right|^{2} + \\left|{y}\\right|^{2} + \\left|{z}\\right|^{2}} }}}{x \\sqrt{\\left|{x}\\right|^{2} + \\left|{y}\\right|^{2} + \\left|{z}\\right|^{2}}} & 0 & - \\frac{\\left(\\operatorname{re}{\\left(x\\right)} \\frac{d}{d x} \\operatorname{re}{\\left(x\\right)} + \\operatorname{im}{\\left(x\\right)} \\frac{d}{d x} \\operatorname{im}{\\left(x\\right)}\\right) \\left|{x}\\right| \\operatorname{sign}{\\left(x \\right)} \\left. \\frac{d}{d \\xi_{1}} f{\\left(\\xi_{1} \\right)} \\right|_{\\substack{ \\xi_{1}=\\sqrt{\\left|{x}\\right|^{2} + \\left|{y}\\right|^{2} + \\left|{z}\\right|^{2}} }}}{\\sqrt{\\left|{x}\\right|^{2} + \\left|{y}\\right|^{2} + \\left|{z}\\right|^{2}}} - f{\\left(\\sqrt{\\left|{x}\\right|^{2} + \\left|{y}\\right|^{2} + \\left|{z}\\right|^{2}} \\right)}\\\\- \\frac{y \\left(\\operatorname{re}{\\left(x\\right)} \\frac{d}{d x} \\operatorname{re}{\\left(x\\right)} + \\operatorname{im}{\\left(x\\right)} \\frac{d}{d x} \\operatorname{im}{\\left(x\\right)}\\right) \\left|{x}\\right| \\operatorname{sign}{\\left(x \\right)} \\left. \\frac{d}{d \\xi_{1}} f{\\left(\\xi_{1} \\right)} \\right|_{\\substack{ \\xi_{1}=\\sqrt{\\left|{x}\\right|^{2} + \\left|{y}\\right|^{2} + \\left|{z}\\right|^{2}} }}}{x \\sqrt{\\left|{x}\\right|^{2} + \\left|{y}\\right|^{2} + \\left|{z}\\right|^{2}}} & \\frac{\\left(\\operatorname{re}{\\left(x\\right)} \\frac{d}{d x} \\operatorname{re}{\\left(x\\right)} + \\operatorname{im}{\\left(x\\right)} \\frac{d}{d x} \\operatorname{im}{\\left(x\\right)}\\right) \\left|{x}\\right| \\operatorname{sign}{\\left(x \\right)} \\left. \\frac{d}{d \\xi_{1}} f{\\left(\\xi_{1} \\right)} \\right|_{\\substack{ \\xi_{1}=\\sqrt{\\left|{x}\\right|^{2} + \\left|{y}\\right|^{2} + \\left|{z}\\right|^{2}} }}}{\\sqrt{\\left|{x}\\right|^{2} + \\left|{y}\\right|^{2} + \\left|{z}\\right|^{2}}} + f{\\left(\\sqrt{\\left|{x}\\right|^{2} + \\left|{y}\\right|^{2} + \\left|{z}\\right|^{2}} \\right)} & 0\\end{matrix}\\right]\\\\\\left[\\begin{matrix}0 & - \\frac{z \\left(\\operatorname{re}{\\left(y\\right)} \\frac{d}{d y} \\operatorname{re}{\\left(y\\right)} + \\operatorname{im}{\\left(y\\right)} \\frac{d}{d y} \\operatorname{im}{\\left(y\\right)}\\right) \\left|{y}\\right| \\operatorname{sign}{\\left(y \\right)} \\left. \\frac{d}{d \\xi_{1}} f{\\left(\\xi_{1} \\right)} \\right|_{\\substack{ \\xi_{1}=\\sqrt{\\left|{x}\\right|^{2} + \\left|{y}\\right|^{2} + \\left|{z}\\right|^{2}} }}}{y \\sqrt{\\left|{x}\\right|^{2} + \\left|{y}\\right|^{2} + \\left|{z}\\right|^{2}}} & \\frac{\\left(\\operatorname{re}{\\left(y\\right)} \\frac{d}{d y} \\operatorname{re}{\\left(y\\right)} + \\operatorname{im}{\\left(y\\right)} \\frac{d}{d y} \\operatorname{im}{\\left(y\\right)}\\right) \\left|{y}\\right| \\operatorname{sign}{\\left(y \\right)} \\left. \\frac{d}{d \\xi_{1}} f{\\left(\\xi_{1} \\right)} \\right|_{\\substack{ \\xi_{1}=\\sqrt{\\left|{x}\\right|^{2} + \\left|{y}\\right|^{2} + \\left|{z}\\right|^{2}} }}}{\\sqrt{\\left|{x}\\right|^{2} + \\left|{y}\\right|^{2} + \\left|{z}\\right|^{2}}} + f{\\left(\\sqrt{\\left|{x}\\right|^{2} + \\left|{y}\\right|^{2} + \\left|{z}\\right|^{2}} \\right)}\\\\\\frac{z \\left(\\operatorname{re}{\\left(y\\right)} \\frac{d}{d y} \\operatorname{re}{\\left(y\\right)} + \\operatorname{im}{\\left(y\\right)} \\frac{d}{d y} \\operatorname{im}{\\left(y\\right)}\\right) \\left|{y}\\right| \\operatorname{sign}{\\left(y \\right)} \\left. \\frac{d}{d \\xi_{1}} f{\\left(\\xi_{1} \\right)} \\right|_{\\substack{ \\xi_{1}=\\sqrt{\\left|{x}\\right|^{2} + \\left|{y}\\right|^{2} + \\left|{z}\\right|^{2}} }}}{y \\sqrt{\\left|{x}\\right|^{2} + \\left|{y}\\right|^{2} + \\left|{z}\\right|^{2}}} & 0 & - \\frac{x \\left(\\operatorname{re}{\\left(y\\right)} \\frac{d}{d y} \\operatorname{re}{\\left(y\\right)} + \\operatorname{im}{\\left(y\\right)} \\frac{d}{d y} \\operatorname{im}{\\left(y\\right)}\\right) \\left|{y}\\right| \\operatorname{sign}{\\left(y \\right)} \\left. \\frac{d}{d \\xi_{1}} f{\\left(\\xi_{1} \\right)} \\right|_{\\substack{ \\xi_{1}=\\sqrt{\\left|{x}\\right|^{2} + \\left|{y}\\right|^{2} + \\left|{z}\\right|^{2}} }}}{y \\sqrt{\\left|{x}\\right|^{2} + \\left|{y}\\right|^{2} + \\left|{z}\\right|^{2}}}\\\\- \\frac{\\left(\\operatorname{re}{\\left(y\\right)} \\frac{d}{d y} \\operatorname{re}{\\left(y\\right)} + \\operatorname{im}{\\left(y\\right)} \\frac{d}{d y} \\operatorname{im}{\\left(y\\right)}\\right) \\left|{y}\\right| \\operatorname{sign}{\\left(y \\right)} \\left. \\frac{d}{d \\xi_{1}} f{\\left(\\xi_{1} \\right)} \\right|_{\\substack{ \\xi_{1}=\\sqrt{\\left|{x}\\right|^{2} + \\left|{y}\\right|^{2} + \\left|{z}\\right|^{2}} }}}{\\sqrt{\\left|{x}\\right|^{2} + \\left|{y}\\right|^{2} + \\left|{z}\\right|^{2}}} - f{\\left(\\sqrt{\\left|{x}\\right|^{2} + \\left|{y}\\right|^{2} + \\left|{z}\\right|^{2}} \\right)} & \\frac{x \\left(\\operatorname{re}{\\left(y\\right)} \\frac{d}{d y} \\operatorname{re}{\\left(y\\right)} + \\operatorname{im}{\\left(y\\right)} \\frac{d}{d y} \\operatorname{im}{\\left(y\\right)}\\right) \\left|{y}\\right| \\operatorname{sign}{\\left(y \\right)} \\left. \\frac{d}{d \\xi_{1}} f{\\left(\\xi_{1} \\right)} \\right|_{\\substack{ \\xi_{1}=\\sqrt{\\left|{x}\\right|^{2} + \\left|{y}\\right|^{2} + \\left|{z}\\right|^{2}} }}}{y \\sqrt{\\left|{x}\\right|^{2} + \\left|{y}\\right|^{2} + \\left|{z}\\right|^{2}}} & 0\\end{matrix}\\right]\\\\\\left[\\begin{matrix}0 & - \\frac{\\left(\\operatorname{re}{\\left(z\\right)} \\frac{d}{d z} \\operatorname{re}{\\left(z\\right)} + \\operatorname{im}{\\left(z\\right)} \\frac{d}{d z} \\operatorname{im}{\\left(z\\right)}\\right) \\left|{z}\\right| \\operatorname{sign}{\\left(z \\right)} \\left. \\frac{d}{d \\xi_{1}} f{\\left(\\xi_{1} \\right)} \\right|_{\\substack{ \\xi_{1}=\\sqrt{\\left|{x}\\right|^{2} + \\left|{y}\\right|^{2} + \\left|{z}\\right|^{2}} }}}{\\sqrt{\\left|{x}\\right|^{2} + \\left|{y}\\right|^{2} + \\left|{z}\\right|^{2}}} - f{\\left(\\sqrt{\\left|{x}\\right|^{2} + \\left|{y}\\right|^{2} + \\left|{z}\\right|^{2}} \\right)} & \\frac{y \\left(\\operatorname{re}{\\left(z\\right)} \\frac{d}{d z} \\operatorname{re}{\\left(z\\right)} + \\operatorname{im}{\\left(z\\right)} \\frac{d}{d z} \\operatorname{im}{\\left(z\\right)}\\right) \\left|{z}\\right| \\operatorname{sign}{\\left(z \\right)} \\left. \\frac{d}{d \\xi_{1}} f{\\left(\\xi_{1} \\right)} \\right|_{\\substack{ \\xi_{1}=\\sqrt{\\left|{x}\\right|^{2} + \\left|{y}\\right|^{2} + \\left|{z}\\right|^{2}} }}}{z \\sqrt{\\left|{x}\\right|^{2} + \\left|{y}\\right|^{2} + \\left|{z}\\right|^{2}}}\\\\\\frac{\\left(\\operatorname{re}{\\left(z\\right)} \\frac{d}{d z} \\operatorname{re}{\\left(z\\right)} + \\operatorname{im}{\\left(z\\right)} \\frac{d}{d z} \\operatorname{im}{\\left(z\\right)}\\right) \\left|{z}\\right| \\operatorname{sign}{\\left(z \\right)} \\left. \\frac{d}{d \\xi_{1}} f{\\left(\\xi_{1} \\right)} \\right|_{\\substack{ \\xi_{1}=\\sqrt{\\left|{x}\\right|^{2} + \\left|{y}\\right|^{2} + \\left|{z}\\right|^{2}} }}}{\\sqrt{\\left|{x}\\right|^{2} + \\left|{y}\\right|^{2} + \\left|{z}\\right|^{2}}} + f{\\left(\\sqrt{\\left|{x}\\right|^{2} + \\left|{y}\\right|^{2} + \\left|{z}\\right|^{2}} \\right)} & 0 & - \\frac{x \\left(\\operatorname{re}{\\left(z\\right)} \\frac{d}{d z} \\operatorname{re}{\\left(z\\right)} + \\operatorname{im}{\\left(z\\right)} \\frac{d}{d z} \\operatorname{im}{\\left(z\\right)}\\right) \\left|{z}\\right| \\operatorname{sign}{\\left(z \\right)} \\left. \\frac{d}{d \\xi_{1}} f{\\left(\\xi_{1} \\right)} \\right|_{\\substack{ \\xi_{1}=\\sqrt{\\left|{x}\\right|^{2} + \\left|{y}\\right|^{2} + \\left|{z}\\right|^{2}} }}}{z \\sqrt{\\left|{x}\\right|^{2} + \\left|{y}\\right|^{2} + \\left|{z}\\right|^{2}}}\\\\- \\frac{y \\left(\\operatorname{re}{\\left(z\\right)} \\frac{d}{d z} \\operatorname{re}{\\left(z\\right)} + \\operatorname{im}{\\left(z\\right)} \\frac{d}{d z} \\operatorname{im}{\\left(z\\right)}\\right) \\left|{z}\\right| \\operatorname{sign}{\\left(z \\right)} \\left. \\frac{d}{d \\xi_{1}} f{\\left(\\xi_{1} \\right)} \\right|_{\\substack{ \\xi_{1}=\\sqrt{\\left|{x}\\right|^{2} + \\left|{y}\\right|^{2} + \\left|{z}\\right|^{2}} }}}{z \\sqrt{\\left|{x}\\right|^{2} + \\left|{y}\\right|^{2} + \\left|{z}\\right|^{2}}} & \\frac{x \\left(\\operatorname{re}{\\left(z\\right)} \\frac{d}{d z} \\operatorname{re}{\\left(z\\right)} + \\operatorname{im}{\\left(z\\right)} \\frac{d}{d z} \\operatorname{im}{\\left(z\\right)}\\right) \\left|{z}\\right| \\operatorname{sign}{\\left(z \\right)} \\left. \\frac{d}{d \\xi_{1}} f{\\left(\\xi_{1} \\right)} \\right|_{\\substack{ \\xi_{1}=\\sqrt{\\left|{x}\\right|^{2} + \\left|{y}\\right|^{2} + \\left|{z}\\right|^{2}} }}}{z \\sqrt{\\left|{x}\\right|^{2} + \\left|{y}\\right|^{2} + \\left|{z}\\right|^{2}}} & 0\\end{matrix}\\right]\\end{matrix}\\right]$"
      ],
      "text/plain": [
       "[[[[0, -z*(re(x)*Derivative(re(x), x) + im(x)*Derivative(im(x), x))*Abs(x)*sign(x)*Subs(Derivative(f(_xi_1), _xi_1), _xi_1, sqrt(Abs(x)**2 + Abs(y)**2 + Abs(z)**2))/(x*sqrt(Abs(x)**2 + Abs(y)**2 + Abs(z)**2)), y*(re(x)*Derivative(re(x), x) + im(x)*Derivative(im(x), x))*Abs(x)*sign(x)*Subs(Derivative(f(_xi_1), _xi_1), _xi_1, sqrt(Abs(x)**2 + Abs(y)**2 + Abs(z)**2))/(x*sqrt(Abs(x)**2 + Abs(y)**2 + Abs(z)**2))], [z*(re(x)*Derivative(re(x), x) + im(x)*Derivative(im(x), x))*Abs(x)*sign(x)*Subs(Derivative(f(_xi_1), _xi_1), _xi_1, sqrt(Abs(x)**2 + Abs(y)**2 + Abs(z)**2))/(x*sqrt(Abs(x)**2 + Abs(y)**2 + Abs(z)**2)), 0, -(re(x)*Derivative(re(x), x) + im(x)*Derivative(im(x), x))*Abs(x)*sign(x)*Subs(Derivative(f(_xi_1), _xi_1), _xi_1, sqrt(Abs(x)**2 + Abs(y)**2 + Abs(z)**2))/sqrt(Abs(x)**2 + Abs(y)**2 + Abs(z)**2) - f(sqrt(Abs(x)**2 + Abs(y)**2 + Abs(z)**2))], [-y*(re(x)*Derivative(re(x), x) + im(x)*Derivative(im(x), x))*Abs(x)*sign(x)*Subs(Derivative(f(_xi_1), _xi_1), _xi_1, sqrt(Abs(x)**2 + Abs(y)**2 + Abs(z)**2))/(x*sqrt(Abs(x)**2 + Abs(y)**2 + Abs(z)**2)), (re(x)*Derivative(re(x), x) + im(x)*Derivative(im(x), x))*Abs(x)*sign(x)*Subs(Derivative(f(_xi_1), _xi_1), _xi_1, sqrt(Abs(x)**2 + Abs(y)**2 + Abs(z)**2))/sqrt(Abs(x)**2 + Abs(y)**2 + Abs(z)**2) + f(sqrt(Abs(x)**2 + Abs(y)**2 + Abs(z)**2)), 0]]], [[[0, -z*(re(y)*Derivative(re(y), y) + im(y)*Derivative(im(y), y))*Abs(y)*sign(y)*Subs(Derivative(f(_xi_1), _xi_1), _xi_1, sqrt(Abs(x)**2 + Abs(y)**2 + Abs(z)**2))/(y*sqrt(Abs(x)**2 + Abs(y)**2 + Abs(z)**2)), (re(y)*Derivative(re(y), y) + im(y)*Derivative(im(y), y))*Abs(y)*sign(y)*Subs(Derivative(f(_xi_1), _xi_1), _xi_1, sqrt(Abs(x)**2 + Abs(y)**2 + Abs(z)**2))/sqrt(Abs(x)**2 + Abs(y)**2 + Abs(z)**2) + f(sqrt(Abs(x)**2 + Abs(y)**2 + Abs(z)**2))], [z*(re(y)*Derivative(re(y), y) + im(y)*Derivative(im(y), y))*Abs(y)*sign(y)*Subs(Derivative(f(_xi_1), _xi_1), _xi_1, sqrt(Abs(x)**2 + Abs(y)**2 + Abs(z)**2))/(y*sqrt(Abs(x)**2 + Abs(y)**2 + Abs(z)**2)), 0, -x*(re(y)*Derivative(re(y), y) + im(y)*Derivative(im(y), y))*Abs(y)*sign(y)*Subs(Derivative(f(_xi_1), _xi_1), _xi_1, sqrt(Abs(x)**2 + Abs(y)**2 + Abs(z)**2))/(y*sqrt(Abs(x)**2 + Abs(y)**2 + Abs(z)**2))], [-(re(y)*Derivative(re(y), y) + im(y)*Derivative(im(y), y))*Abs(y)*sign(y)*Subs(Derivative(f(_xi_1), _xi_1), _xi_1, sqrt(Abs(x)**2 + Abs(y)**2 + Abs(z)**2))/sqrt(Abs(x)**2 + Abs(y)**2 + Abs(z)**2) - f(sqrt(Abs(x)**2 + Abs(y)**2 + Abs(z)**2)), x*(re(y)*Derivative(re(y), y) + im(y)*Derivative(im(y), y))*Abs(y)*sign(y)*Subs(Derivative(f(_xi_1), _xi_1), _xi_1, sqrt(Abs(x)**2 + Abs(y)**2 + Abs(z)**2))/(y*sqrt(Abs(x)**2 + Abs(y)**2 + Abs(z)**2)), 0]]], [[[0, -(re(z)*Derivative(re(z), z) + im(z)*Derivative(im(z), z))*Abs(z)*sign(z)*Subs(Derivative(f(_xi_1), _xi_1), _xi_1, sqrt(Abs(x)**2 + Abs(y)**2 + Abs(z)**2))/sqrt(Abs(x)**2 + Abs(y)**2 + Abs(z)**2) - f(sqrt(Abs(x)**2 + Abs(y)**2 + Abs(z)**2)), y*(re(z)*Derivative(re(z), z) + im(z)*Derivative(im(z), z))*Abs(z)*sign(z)*Subs(Derivative(f(_xi_1), _xi_1), _xi_1, sqrt(Abs(x)**2 + Abs(y)**2 + Abs(z)**2))/(z*sqrt(Abs(x)**2 + Abs(y)**2 + Abs(z)**2))], [(re(z)*Derivative(re(z), z) + im(z)*Derivative(im(z), z))*Abs(z)*sign(z)*Subs(Derivative(f(_xi_1), _xi_1), _xi_1, sqrt(Abs(x)**2 + Abs(y)**2 + Abs(z)**2))/sqrt(Abs(x)**2 + Abs(y)**2 + Abs(z)**2) + f(sqrt(Abs(x)**2 + Abs(y)**2 + Abs(z)**2)), 0, -x*(re(z)*Derivative(re(z), z) + im(z)*Derivative(im(z), z))*Abs(z)*sign(z)*Subs(Derivative(f(_xi_1), _xi_1), _xi_1, sqrt(Abs(x)**2 + Abs(y)**2 + Abs(z)**2))/(z*sqrt(Abs(x)**2 + Abs(y)**2 + Abs(z)**2))], [-y*(re(z)*Derivative(re(z), z) + im(z)*Derivative(im(z), z))*Abs(z)*sign(z)*Subs(Derivative(f(_xi_1), _xi_1), _xi_1, sqrt(Abs(x)**2 + Abs(y)**2 + Abs(z)**2))/(z*sqrt(Abs(x)**2 + Abs(y)**2 + Abs(z)**2)), x*(re(z)*Derivative(re(z), z) + im(z)*Derivative(im(z), z))*Abs(z)*sign(z)*Subs(Derivative(f(_xi_1), _xi_1), _xi_1, sqrt(Abs(x)**2 + Abs(y)**2 + Abs(z)**2))/(z*sqrt(Abs(x)**2 + Abs(y)**2 + Abs(z)**2)), 0]]]]"
      ]
     },
     "execution_count": 49,
     "metadata": {},
     "output_type": "execute_result"
    }
   ],
   "source": [
    "x = Matrix(symbols(\"x y z\"))\n",
    "f = Function(\"f\", real=True)\n",
    "assuming(Q.real(x))\n",
    "fx = f(x.norm(2)) * hat(x)\n",
    "fx.diff(x)"
   ]
  },
  {
   "cell_type": "code",
   "execution_count": null,
   "metadata": {},
   "outputs": [],
   "source": []
  },
  {
   "cell_type": "code",
   "execution_count": null,
   "metadata": {},
   "outputs": [],
   "source": []
  }
 ],
 "metadata": {
  "kernelspec": {
   "display_name": "Python 3",
   "language": "python",
   "name": "python3"
  },
  "language_info": {
   "codemirror_mode": {
    "name": "ipython",
    "version": 3
   },
   "file_extension": ".py",
   "mimetype": "text/x-python",
   "name": "python",
   "nbconvert_exporter": "python",
   "pygments_lexer": "ipython3",
   "version": "3.9.0"
  },
  "varInspector": {
   "cols": {
    "lenName": 16,
    "lenType": 16,
    "lenVar": 40
   },
   "kernels_config": {
    "python": {
     "delete_cmd_postfix": "",
     "delete_cmd_prefix": "del ",
     "library": "var_list.py",
     "varRefreshCmd": "print(var_dic_list())"
    },
    "r": {
     "delete_cmd_postfix": ") ",
     "delete_cmd_prefix": "rm(",
     "library": "var_list.r",
     "varRefreshCmd": "cat(var_dic_list()) "
    }
   },
   "types_to_exclude": [
    "module",
    "function",
    "builtin_function_or_method",
    "instance",
    "_Feature"
   ],
   "window_display": false
  }
 },
 "nbformat": 4,
 "nbformat_minor": 4
}
