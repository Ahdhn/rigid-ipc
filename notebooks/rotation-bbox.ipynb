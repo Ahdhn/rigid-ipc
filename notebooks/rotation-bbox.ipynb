{
 "cells": [
  {
   "cell_type": "code",
   "execution_count": 1,
   "metadata": {},
   "outputs": [],
   "source": [
    "#import numpy\n",
    "from sympy import *\n",
    "from IPython.display import Latex, Math, display"
   ]
  },
  {
   "cell_type": "code",
   "execution_count": 22,
   "metadata": {},
   "outputs": [],
   "source": [
    "def hat(x):\n",
    "    return Matrix([[0, -x[2], x[1]], \n",
    "                   [x[2], 0, -x[0]], \n",
    "                   [-x[1], x[0], 0]])\n",
    "\n",
    "def norm(x):\n",
    "    return sqrt(sum([xi**2 for xi in x]))"
   ]
  },
  {
   "cell_type": "code",
   "execution_count": 23,
   "metadata": {},
   "outputs": [],
   "source": [
    "t = Symbol(\"t\")\n",
    "p = Matrix(symbols(\"p_x p_y p_z\"))\n",
    "dp = Matrix(symbols(\"dp_x dp_y dp_z\"))\n",
    "r = Matrix(symbols(\"r_x r_y r_z\"))\n",
    "dr = Matrix(symbols(\"dr_x dr_y dr_z\"))"
   ]
  },
  {
   "cell_type": "code",
   "execution_count": 24,
   "metadata": {},
   "outputs": [],
   "source": [
    "# Compute R from rotation vector\n",
    "sinc_normx = Function(\"sinc_normx\")\n",
    "K = hat(r+t*dr)\n",
    "theta = norm(r+t*dr)\n",
    "R = eye(3) + sinc(theta) * K + 0.5 * sinc(theta)**2 * K @ K\n",
    "# R.simplify()\n",
    "# display(R)"
   ]
  },
  {
   "cell_type": "code",
   "execution_count": 27,
   "metadata": {},
   "outputs": [],
   "source": [
    "x0 = Matrix(symbols(\"x_0 y_0 z_0\"))\n",
    "x1 = R * x\n",
    "x1.simplify()\n",
    "# display(x1)"
   ]
  },
  {
   "cell_type": "code",
   "execution_count": 28,
   "metadata": {},
   "outputs": [
    {
     "data": {
      "text/latex": [
       "$\\displaystyle \\begin{cases} \\frac{- 1.0 x_{0} \\left(\\left(dr_{y} t + r_{y}\\right)^{2} \\left(\\sqrt{\\left(dr_{x} t + r_{x}\\right)^{2} + \\left(dr_{y} t + r_{y}\\right)^{2} + \\left(dr_{z} t + r_{z}\\right)^{2}} \\cos{\\left(\\sqrt{\\left(dr_{x} t + r_{x}\\right)^{2} + \\left(dr_{y} t + r_{y}\\right)^{2} + \\left(dr_{z} t + r_{z}\\right)^{2}} \\right)} - \\sin{\\left(\\sqrt{\\left(dr_{x} t + r_{x}\\right)^{2} + \\left(dr_{y} t + r_{y}\\right)^{2} + \\left(dr_{z} t + r_{z}\\right)^{2}} \\right)}\\right) \\left(dr_{x} \\left(dr_{x} t + r_{x}\\right) + dr_{y} \\left(dr_{y} t + r_{y}\\right) + dr_{z} \\left(dr_{z} t + r_{z}\\right)\\right) + \\left(dr_{y} \\left(dr_{y} t + r_{y}\\right) + dr_{z} \\left(dr_{z} t + r_{z}\\right)\\right) \\left(\\left(dr_{x} t + r_{x}\\right)^{2} + \\left(dr_{y} t + r_{y}\\right)^{2} + \\left(dr_{z} t + r_{z}\\right)^{2}\\right)^{\\frac{3}{2}} \\operatorname{sinc}{\\left(\\sqrt{\\left(dr_{x} t + r_{x}\\right)^{2} + \\left(dr_{y} t + r_{y}\\right)^{2} + \\left(dr_{z} t + r_{z}\\right)^{2}} \\right)} + \\left(dr_{z} t + r_{z}\\right)^{2} \\left(\\sqrt{\\left(dr_{x} t + r_{x}\\right)^{2} + \\left(dr_{y} t + r_{y}\\right)^{2} + \\left(dr_{z} t + r_{z}\\right)^{2}} \\cos{\\left(\\sqrt{\\left(dr_{x} t + r_{x}\\right)^{2} + \\left(dr_{y} t + r_{y}\\right)^{2} + \\left(dr_{z} t + r_{z}\\right)^{2}} \\right)} - \\sin{\\left(\\sqrt{\\left(dr_{x} t + r_{x}\\right)^{2} + \\left(dr_{y} t + r_{y}\\right)^{2} + \\left(dr_{z} t + r_{z}\\right)^{2}} \\right)}\\right) \\left(dr_{x} \\left(dr_{x} t + r_{x}\\right) + dr_{y} \\left(dr_{y} t + r_{y}\\right) + dr_{z} \\left(dr_{z} t + r_{z}\\right)\\right)\\right) \\operatorname{sinc}{\\left(\\sqrt{\\left(dr_{x} t + r_{x}\\right)^{2} + \\left(dr_{y} t + r_{y}\\right)^{2} + \\left(dr_{z} t + r_{z}\\right)^{2}} \\right)} - y_{0} \\left(\\sqrt{\\left(dr_{x} t + r_{x}\\right)^{2} + \\left(dr_{y} t + r_{y}\\right)^{2} + \\left(dr_{z} t + r_{z}\\right)^{2}} \\cos{\\left(\\sqrt{\\left(dr_{x} t + r_{x}\\right)^{2} + \\left(dr_{y} t + r_{y}\\right)^{2} + \\left(dr_{z} t + r_{z}\\right)^{2}} \\right)} - \\sin{\\left(\\sqrt{\\left(dr_{x} t + r_{x}\\right)^{2} + \\left(dr_{y} t + r_{y}\\right)^{2} + \\left(dr_{z} t + r_{z}\\right)^{2}} \\right)}\\right) \\left(dr_{x} \\left(dr_{x} t + r_{x}\\right) + dr_{y} \\left(dr_{y} t + r_{y}\\right) + dr_{z} \\left(dr_{z} t + r_{z}\\right)\\right) \\left(dr_{z} t + r_{z} - 0.5 \\left(dr_{x} t + r_{x}\\right) \\left(dr_{y} t + r_{y}\\right) \\operatorname{sinc}{\\left(\\sqrt{\\left(dr_{x} t + r_{x}\\right)^{2} + \\left(dr_{y} t + r_{y}\\right)^{2} + \\left(dr_{z} t + r_{z}\\right)^{2}} \\right)}\\right) + y_{0} \\left(0.5 \\left(dr_{x} t + r_{x}\\right) \\left(dr_{y} t + r_{y}\\right) \\left(\\sqrt{\\left(dr_{x} t + r_{x}\\right)^{2} + \\left(dr_{y} t + r_{y}\\right)^{2} + \\left(dr_{z} t + r_{z}\\right)^{2}} \\cos{\\left(\\sqrt{\\left(dr_{x} t + r_{x}\\right)^{2} + \\left(dr_{y} t + r_{y}\\right)^{2} + \\left(dr_{z} t + r_{z}\\right)^{2}} \\right)} - \\sin{\\left(\\sqrt{\\left(dr_{x} t + r_{x}\\right)^{2} + \\left(dr_{y} t + r_{y}\\right)^{2} + \\left(dr_{z} t + r_{z}\\right)^{2}} \\right)}\\right) \\left(dr_{x} \\left(dr_{x} t + r_{x}\\right) + dr_{y} \\left(dr_{y} t + r_{y}\\right) + dr_{z} \\left(dr_{z} t + r_{z}\\right)\\right) + \\left(0.5 dr_{x} \\left(dr_{y} t + r_{y}\\right) \\operatorname{sinc}{\\left(\\sqrt{\\left(dr_{x} t + r_{x}\\right)^{2} + \\left(dr_{y} t + r_{y}\\right)^{2} + \\left(dr_{z} t + r_{z}\\right)^{2}} \\right)} + 0.5 dr_{y} \\left(dr_{x} t + r_{x}\\right) \\operatorname{sinc}{\\left(\\sqrt{\\left(dr_{x} t + r_{x}\\right)^{2} + \\left(dr_{y} t + r_{y}\\right)^{2} + \\left(dr_{z} t + r_{z}\\right)^{2}} \\right)} - dr_{z}\\right) \\left(\\left(dr_{x} t + r_{x}\\right)^{2} + \\left(dr_{y} t + r_{y}\\right)^{2} + \\left(dr_{z} t + r_{z}\\right)^{2}\\right)^{\\frac{3}{2}}\\right) \\operatorname{sinc}{\\left(\\sqrt{\\left(dr_{x} t + r_{x}\\right)^{2} + \\left(dr_{y} t + r_{y}\\right)^{2} + \\left(dr_{z} t + r_{z}\\right)^{2}} \\right)} + z_{0} \\left(\\sqrt{\\left(dr_{x} t + r_{x}\\right)^{2} + \\left(dr_{y} t + r_{y}\\right)^{2} + \\left(dr_{z} t + r_{z}\\right)^{2}} \\cos{\\left(\\sqrt{\\left(dr_{x} t + r_{x}\\right)^{2} + \\left(dr_{y} t + r_{y}\\right)^{2} + \\left(dr_{z} t + r_{z}\\right)^{2}} \\right)} - \\sin{\\left(\\sqrt{\\left(dr_{x} t + r_{x}\\right)^{2} + \\left(dr_{y} t + r_{y}\\right)^{2} + \\left(dr_{z} t + r_{z}\\right)^{2}} \\right)}\\right) \\left(dr_{x} \\left(dr_{x} t + r_{x}\\right) + dr_{y} \\left(dr_{y} t + r_{y}\\right) + dr_{z} \\left(dr_{z} t + r_{z}\\right)\\right) \\left(dr_{y} t + r_{y} + 0.5 \\left(dr_{x} t + r_{x}\\right) \\left(dr_{z} t + r_{z}\\right) \\operatorname{sinc}{\\left(\\sqrt{\\left(dr_{x} t + r_{x}\\right)^{2} + \\left(dr_{y} t + r_{y}\\right)^{2} + \\left(dr_{z} t + r_{z}\\right)^{2}} \\right)}\\right) + z_{0} \\left(0.5 \\left(dr_{x} t + r_{x}\\right) \\left(dr_{z} t + r_{z}\\right) \\left(\\sqrt{\\left(dr_{x} t + r_{x}\\right)^{2} + \\left(dr_{y} t + r_{y}\\right)^{2} + \\left(dr_{z} t + r_{z}\\right)^{2}} \\cos{\\left(\\sqrt{\\left(dr_{x} t + r_{x}\\right)^{2} + \\left(dr_{y} t + r_{y}\\right)^{2} + \\left(dr_{z} t + r_{z}\\right)^{2}} \\right)} - \\sin{\\left(\\sqrt{\\left(dr_{x} t + r_{x}\\right)^{2} + \\left(dr_{y} t + r_{y}\\right)^{2} + \\left(dr_{z} t + r_{z}\\right)^{2}} \\right)}\\right) \\left(dr_{x} \\left(dr_{x} t + r_{x}\\right) + dr_{y} \\left(dr_{y} t + r_{y}\\right) + dr_{z} \\left(dr_{z} t + r_{z}\\right)\\right) + \\left(0.5 dr_{x} \\left(dr_{z} t + r_{z}\\right) \\operatorname{sinc}{\\left(\\sqrt{\\left(dr_{x} t + r_{x}\\right)^{2} + \\left(dr_{y} t + r_{y}\\right)^{2} + \\left(dr_{z} t + r_{z}\\right)^{2}} \\right)} + dr_{y} + 0.5 dr_{z} \\left(dr_{x} t + r_{x}\\right) \\operatorname{sinc}{\\left(\\sqrt{\\left(dr_{x} t + r_{x}\\right)^{2} + \\left(dr_{y} t + r_{y}\\right)^{2} + \\left(dr_{z} t + r_{z}\\right)^{2}} \\right)}\\right) \\left(\\left(dr_{x} t + r_{x}\\right)^{2} + \\left(dr_{y} t + r_{y}\\right)^{2} + \\left(dr_{z} t + r_{z}\\right)^{2}\\right)^{\\frac{3}{2}}\\right) \\operatorname{sinc}{\\left(\\sqrt{\\left(dr_{x} t + r_{x}\\right)^{2} + \\left(dr_{y} t + r_{y}\\right)^{2} + \\left(dr_{z} t + r_{z}\\right)^{2}} \\right)}}{\\left(\\left(dr_{x} t + r_{x}\\right)^{2} + \\left(dr_{y} t + r_{y}\\right)^{2} + \\left(dr_{z} t + r_{z}\\right)^{2}\\right)^{\\frac{3}{2}}} & \\text{for}\\: \\sqrt{\\left(dr_{x} t + r_{x}\\right)^{2} + \\left(dr_{y} t + r_{y}\\right)^{2} + \\left(dr_{z} t + r_{z}\\right)^{2}} \\neq 0 \\\\\\left(- 1.0 x_{0} \\left(dr_{y} \\left(dr_{y} t + r_{y}\\right) + dr_{z} \\left(dr_{z} t + r_{z}\\right)\\right) \\operatorname{sinc}{\\left(\\sqrt{\\left(dr_{x} t + r_{x}\\right)^{2} + \\left(dr_{y} t + r_{y}\\right)^{2} + \\left(dr_{z} t + r_{z}\\right)^{2}} \\right)} + y_{0} \\left(0.5 dr_{x} \\left(dr_{y} t + r_{y}\\right) \\operatorname{sinc}{\\left(\\sqrt{\\left(dr_{x} t + r_{x}\\right)^{2} + \\left(dr_{y} t + r_{y}\\right)^{2} + \\left(dr_{z} t + r_{z}\\right)^{2}} \\right)} + 0.5 dr_{y} \\left(dr_{x} t + r_{x}\\right) \\operatorname{sinc}{\\left(\\sqrt{\\left(dr_{x} t + r_{x}\\right)^{2} + \\left(dr_{y} t + r_{y}\\right)^{2} + \\left(dr_{z} t + r_{z}\\right)^{2}} \\right)} - dr_{z}\\right) + z_{0} \\left(0.5 dr_{x} \\left(dr_{z} t + r_{z}\\right) \\operatorname{sinc}{\\left(\\sqrt{\\left(dr_{x} t + r_{x}\\right)^{2} + \\left(dr_{y} t + r_{y}\\right)^{2} + \\left(dr_{z} t + r_{z}\\right)^{2}} \\right)} + dr_{y} + 0.5 dr_{z} \\left(dr_{x} t + r_{x}\\right) \\operatorname{sinc}{\\left(\\sqrt{\\left(dr_{x} t + r_{x}\\right)^{2} + \\left(dr_{y} t + r_{y}\\right)^{2} + \\left(dr_{z} t + r_{z}\\right)^{2}} \\right)}\\right)\\right) \\operatorname{sinc}{\\left(\\sqrt{\\left(dr_{x} t + r_{x}\\right)^{2} + \\left(dr_{y} t + r_{y}\\right)^{2} + \\left(dr_{z} t + r_{z}\\right)^{2}} \\right)} & \\text{otherwise} \\end{cases}$"
      ],
      "text/plain": [
       "Piecewise(((-1.0*x_0*((dr_y*t + r_y)**2*(sqrt((dr_x*t + r_x)**2 + (dr_y*t + r_y)**2 + (dr_z*t + r_z)**2)*cos(sqrt((dr_x*t + r_x)**2 + (dr_y*t + r_y)**2 + (dr_z*t + r_z)**2)) - sin(sqrt((dr_x*t + r_x)**2 + (dr_y*t + r_y)**2 + (dr_z*t + r_z)**2)))*(dr_x*(dr_x*t + r_x) + dr_y*(dr_y*t + r_y) + dr_z*(dr_z*t + r_z)) + (dr_y*(dr_y*t + r_y) + dr_z*(dr_z*t + r_z))*((dr_x*t + r_x)**2 + (dr_y*t + r_y)**2 + (dr_z*t + r_z)**2)**(3/2)*sinc(sqrt((dr_x*t + r_x)**2 + (dr_y*t + r_y)**2 + (dr_z*t + r_z)**2)) + (dr_z*t + r_z)**2*(sqrt((dr_x*t + r_x)**2 + (dr_y*t + r_y)**2 + (dr_z*t + r_z)**2)*cos(sqrt((dr_x*t + r_x)**2 + (dr_y*t + r_y)**2 + (dr_z*t + r_z)**2)) - sin(sqrt((dr_x*t + r_x)**2 + (dr_y*t + r_y)**2 + (dr_z*t + r_z)**2)))*(dr_x*(dr_x*t + r_x) + dr_y*(dr_y*t + r_y) + dr_z*(dr_z*t + r_z)))*sinc(sqrt((dr_x*t + r_x)**2 + (dr_y*t + r_y)**2 + (dr_z*t + r_z)**2)) - y_0*(sqrt((dr_x*t + r_x)**2 + (dr_y*t + r_y)**2 + (dr_z*t + r_z)**2)*cos(sqrt((dr_x*t + r_x)**2 + (dr_y*t + r_y)**2 + (dr_z*t + r_z)**2)) - sin(sqrt((dr_x*t + r_x)**2 + (dr_y*t + r_y)**2 + (dr_z*t + r_z)**2)))*(dr_x*(dr_x*t + r_x) + dr_y*(dr_y*t + r_y) + dr_z*(dr_z*t + r_z))*(dr_z*t + r_z - 0.5*(dr_x*t + r_x)*(dr_y*t + r_y)*sinc(sqrt((dr_x*t + r_x)**2 + (dr_y*t + r_y)**2 + (dr_z*t + r_z)**2))) + y_0*(0.5*(dr_x*t + r_x)*(dr_y*t + r_y)*(sqrt((dr_x*t + r_x)**2 + (dr_y*t + r_y)**2 + (dr_z*t + r_z)**2)*cos(sqrt((dr_x*t + r_x)**2 + (dr_y*t + r_y)**2 + (dr_z*t + r_z)**2)) - sin(sqrt((dr_x*t + r_x)**2 + (dr_y*t + r_y)**2 + (dr_z*t + r_z)**2)))*(dr_x*(dr_x*t + r_x) + dr_y*(dr_y*t + r_y) + dr_z*(dr_z*t + r_z)) + (0.5*dr_x*(dr_y*t + r_y)*sinc(sqrt((dr_x*t + r_x)**2 + (dr_y*t + r_y)**2 + (dr_z*t + r_z)**2)) + 0.5*dr_y*(dr_x*t + r_x)*sinc(sqrt((dr_x*t + r_x)**2 + (dr_y*t + r_y)**2 + (dr_z*t + r_z)**2)) - dr_z)*((dr_x*t + r_x)**2 + (dr_y*t + r_y)**2 + (dr_z*t + r_z)**2)**(3/2))*sinc(sqrt((dr_x*t + r_x)**2 + (dr_y*t + r_y)**2 + (dr_z*t + r_z)**2)) + z_0*(sqrt((dr_x*t + r_x)**2 + (dr_y*t + r_y)**2 + (dr_z*t + r_z)**2)*cos(sqrt((dr_x*t + r_x)**2 + (dr_y*t + r_y)**2 + (dr_z*t + r_z)**2)) - sin(sqrt((dr_x*t + r_x)**2 + (dr_y*t + r_y)**2 + (dr_z*t + r_z)**2)))*(dr_x*(dr_x*t + r_x) + dr_y*(dr_y*t + r_y) + dr_z*(dr_z*t + r_z))*(dr_y*t + r_y + 0.5*(dr_x*t + r_x)*(dr_z*t + r_z)*sinc(sqrt((dr_x*t + r_x)**2 + (dr_y*t + r_y)**2 + (dr_z*t + r_z)**2))) + z_0*(0.5*(dr_x*t + r_x)*(dr_z*t + r_z)*(sqrt((dr_x*t + r_x)**2 + (dr_y*t + r_y)**2 + (dr_z*t + r_z)**2)*cos(sqrt((dr_x*t + r_x)**2 + (dr_y*t + r_y)**2 + (dr_z*t + r_z)**2)) - sin(sqrt((dr_x*t + r_x)**2 + (dr_y*t + r_y)**2 + (dr_z*t + r_z)**2)))*(dr_x*(dr_x*t + r_x) + dr_y*(dr_y*t + r_y) + dr_z*(dr_z*t + r_z)) + (0.5*dr_x*(dr_z*t + r_z)*sinc(sqrt((dr_x*t + r_x)**2 + (dr_y*t + r_y)**2 + (dr_z*t + r_z)**2)) + dr_y + 0.5*dr_z*(dr_x*t + r_x)*sinc(sqrt((dr_x*t + r_x)**2 + (dr_y*t + r_y)**2 + (dr_z*t + r_z)**2)))*((dr_x*t + r_x)**2 + (dr_y*t + r_y)**2 + (dr_z*t + r_z)**2)**(3/2))*sinc(sqrt((dr_x*t + r_x)**2 + (dr_y*t + r_y)**2 + (dr_z*t + r_z)**2)))/((dr_x*t + r_x)**2 + (dr_y*t + r_y)**2 + (dr_z*t + r_z)**2)**(3/2), Ne(sqrt((dr_x*t + r_x)**2 + (dr_y*t + r_y)**2 + (dr_z*t + r_z)**2), 0)), ((-1.0*x_0*(dr_y*(dr_y*t + r_y) + dr_z*(dr_z*t + r_z))*sinc(sqrt((dr_x*t + r_x)**2 + (dr_y*t + r_y)**2 + (dr_z*t + r_z)**2)) + y_0*(0.5*dr_x*(dr_y*t + r_y)*sinc(sqrt((dr_x*t + r_x)**2 + (dr_y*t + r_y)**2 + (dr_z*t + r_z)**2)) + 0.5*dr_y*(dr_x*t + r_x)*sinc(sqrt((dr_x*t + r_x)**2 + (dr_y*t + r_y)**2 + (dr_z*t + r_z)**2)) - dr_z) + z_0*(0.5*dr_x*(dr_z*t + r_z)*sinc(sqrt((dr_x*t + r_x)**2 + (dr_y*t + r_y)**2 + (dr_z*t + r_z)**2)) + dr_y + 0.5*dr_z*(dr_x*t + r_x)*sinc(sqrt((dr_x*t + r_x)**2 + (dr_y*t + r_y)**2 + (dr_z*t + r_z)**2))))*sinc(sqrt((dr_x*t + r_x)**2 + (dr_y*t + r_y)**2 + (dr_z*t + r_z)**2)), True))"
      ]
     },
     "execution_count": 28,
     "metadata": {},
     "output_type": "execute_result"
    }
   ],
   "source": [
    "diff(x1[0], t).simplify()"
   ]
  },
  {
   "cell_type": "code",
   "execution_count": 4,
   "metadata": {},
   "outputs": [],
   "source": [
    "x0 = Matrix(symbols(\"x_0 y_0 z_0\"))\n",
    "p = Matrix(symbols(\"p_x p_y p_z\"))\n",
    "x = Matrix(R @ x0 + p)\n",
    "# x.simpli\n",
    "# display(x)"
   ]
  },
  {
   "cell_type": "code",
   "execution_count": null,
   "metadata": {},
   "outputs": [],
   "source": []
  }
 ],
 "metadata": {
  "kernelspec": {
   "display_name": "Python 3",
   "language": "python",
   "name": "python3"
  },
  "language_info": {
   "codemirror_mode": {
    "name": "ipython",
    "version": 3
   },
   "file_extension": ".py",
   "mimetype": "text/x-python",
   "name": "python",
   "nbconvert_exporter": "python",
   "pygments_lexer": "ipython3",
   "version": "3.9.0"
  },
  "varInspector": {
   "cols": {
    "lenName": 16,
    "lenType": 16,
    "lenVar": 40
   },
   "kernels_config": {
    "python": {
     "delete_cmd_postfix": "",
     "delete_cmd_prefix": "del ",
     "library": "var_list.py",
     "varRefreshCmd": "print(var_dic_list())"
    },
    "r": {
     "delete_cmd_postfix": ") ",
     "delete_cmd_prefix": "rm(",
     "library": "var_list.r",
     "varRefreshCmd": "cat(var_dic_list()) "
    }
   },
   "types_to_exclude": [
    "module",
    "function",
    "builtin_function_or_method",
    "instance",
    "_Feature"
   ],
   "window_display": false
  }
 },
 "nbformat": 4,
 "nbformat_minor": 4
}
