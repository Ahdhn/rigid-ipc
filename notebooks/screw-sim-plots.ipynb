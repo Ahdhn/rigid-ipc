{
 "cells": [
  {
   "cell_type": "code",
   "execution_count": 1,
   "metadata": {},
   "outputs": [],
   "source": [
    "import json\n",
    "import numpy\n",
    "import plotly.graph_objects as go\n",
    "from scipy.spatial.transform import Rotation as R"
   ]
  },
  {
   "cell_type": "code",
   "execution_count": 2,
   "metadata": {},
   "outputs": [
    {
     "ename": "FileNotFoundError",
     "evalue": "[Errno 2] No such file or directory: 'screw-sim.json'",
     "output_type": "error",
     "traceback": [
      "\u001b[0;31m---------------------------------------------------------------------------\u001b[0m",
      "\u001b[0;31mFileNotFoundError\u001b[0m                         Traceback (most recent call last)",
      "\u001b[0;32m<ipython-input-2-063586d69069>\u001b[0m in \u001b[0;36m<module>\u001b[0;34m\u001b[0m\n\u001b[0;32m----> 1\u001b[0;31m \u001b[0;32mwith\u001b[0m \u001b[0mopen\u001b[0m\u001b[0;34m(\u001b[0m\u001b[0;34m'screw-sim.json'\u001b[0m\u001b[0;34m)\u001b[0m \u001b[0;32mas\u001b[0m \u001b[0mf\u001b[0m\u001b[0;34m:\u001b[0m\u001b[0;34m\u001b[0m\u001b[0;34m\u001b[0m\u001b[0m\n\u001b[0m\u001b[1;32m      2\u001b[0m   \u001b[0msim\u001b[0m \u001b[0;34m=\u001b[0m \u001b[0mjson\u001b[0m\u001b[0;34m.\u001b[0m\u001b[0mload\u001b[0m\u001b[0;34m(\u001b[0m\u001b[0mf\u001b[0m\u001b[0;34m)\u001b[0m\u001b[0;34m\u001b[0m\u001b[0;34m\u001b[0m\u001b[0m\n",
      "\u001b[0;31mFileNotFoundError\u001b[0m: [Errno 2] No such file or directory: 'screw-sim.json'"
     ]
    }
   ],
   "source": [
    "with open('screw-sim.json') as f:\n",
    "  sim = json.load(f)"
   ]
  },
  {
   "cell_type": "code",
   "execution_count": null,
   "metadata": {},
   "outputs": [],
   "source": [
    "angular_vels = [\n",
    "    numpy.linalg.norm(\n",
    "        sim[\"animation\"][\"state_sequence\"][i][\"rigid_bodies\"][1][\"angular_velocity\"]) \n",
    "    for i in range(len(sim[\"animation\"][\"state_sequence\"]))]\n",
    "ts = numpy.arange(len(sim[\"animation\"][\"state_sequence\"])) * 0.01"
   ]
  },
  {
   "cell_type": "code",
   "execution_count": null,
   "metadata": {},
   "outputs": [],
   "source": [
    "fig = go.Figure(data=go.Scatter(x=ts, y=angular_vels))\n",
    "fig.update_layout(title='Screw Simulation',\n",
    "                   yaxis_title=r'$\\|\\omega\\|\\ \\text{(rad / s)}$',\n",
    "                   xaxis_title='time (s)')\n",
    "fig.show()"
   ]
  },
  {
   "cell_type": "code",
   "execution_count": null,
   "metadata": {},
   "outputs": [],
   "source": [
    "R0 = R.from_rotvec(sim[\"animation\"][\"state_sequence\"][0][\"rigid_bodies\"][1][\"rotation\"]).as_matrix()\n",
    "rotations = numpy.array([\n",
    "    (R.from_rotvec(sim[\"animation\"][\"state_sequence\"][i][\"rigid_bodies\"][1][\"rotation\"]).as_matrix() @ R0.T) @ numpy.array([0, 1, 0])\n",
    "    for i in range(len(sim[\"animation\"][\"state_sequence\"]))])\n",
    "# rotations = rotations / numpy.linalg.norm(rotations, axis=1).reshape(-1, 1)"
   ]
  },
  {
   "cell_type": "code",
   "execution_count": null,
   "metadata": {},
   "outputs": [],
   "source": [
    "fig = go.Figure(data=[go.Scatter(x=ts, y=rotations[:, i], name=\"xyz\"[i]) for i in range(3)])\n",
    "fig.update_layout(title='Screw Simulation',\n",
    "                   yaxis_title=r'',\n",
    "                   xaxis_title='time (s)')\n",
    "fig.show()"
   ]
  },
  {
   "cell_type": "code",
   "execution_count": null,
   "metadata": {},
   "outputs": [],
   "source": [
    "fig = go.Figure(data=([\n",
    "    go.Scatter(x=ts, y=angular_vels)]\n",
    "    +[go.Scatter(x=ts, y=10*rotations[:, i], name=\"xyz\"[i]) for i in range(3)]))\n",
    "fig.update_layout(title='Screw Simulation',\n",
    "                   yaxis_title='',\n",
    "                   xaxis_title='time (s)')\n",
    "fig.show()"
   ]
  },
  {
   "cell_type": "code",
   "execution_count": null,
   "metadata": {},
   "outputs": [],
   "source": []
  }
 ],
 "metadata": {
  "kernelspec": {
   "display_name": "Python 3",
   "language": "python",
   "name": "python3"
  },
  "language_info": {
   "codemirror_mode": {
    "name": "ipython",
    "version": 3
   },
   "file_extension": ".py",
   "mimetype": "text/x-python",
   "name": "python",
   "nbconvert_exporter": "python",
   "pygments_lexer": "ipython3",
   "version": "3.8.6"
  },
  "varInspector": {
   "cols": {
    "lenName": 16,
    "lenType": 16,
    "lenVar": 40
   },
   "kernels_config": {
    "python": {
     "delete_cmd_postfix": "",
     "delete_cmd_prefix": "del ",
     "library": "var_list.py",
     "varRefreshCmd": "print(var_dic_list())"
    },
    "r": {
     "delete_cmd_postfix": ") ",
     "delete_cmd_prefix": "rm(",
     "library": "var_list.r",
     "varRefreshCmd": "cat(var_dic_list()) "
    }
   },
   "types_to_exclude": [
    "module",
    "function",
    "builtin_function_or_method",
    "instance",
    "_Feature"
   ],
   "window_display": false
  }
 },
 "nbformat": 4,
 "nbformat_minor": 4
}
