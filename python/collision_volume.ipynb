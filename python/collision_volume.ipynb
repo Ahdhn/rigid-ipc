{
 "cells": [
  {
   "cell_type": "markdown",
   "metadata": {},
   "source": [
    "# Intersection Volume"
   ]
  },
  {
   "cell_type": "code",
   "execution_count": 1,
   "metadata": {},
   "outputs": [],
   "source": [
    "# Some more magic so that the notebook will reload external python modules;\n",
    "# see http://stackoverflow.com/questions/1907993/autoreload-of-modules-in-ipython\n",
    "%load_ext autoreload\n",
    "%autoreload 2"
   ]
  },
  {
   "cell_type": "code",
   "execution_count": null,
   "metadata": {},
   "outputs": [],
   "source": []
  },
  {
   "cell_type": "markdown",
   "metadata": {},
   "source": [
    "### Volume for an Edge-Vertex contact.\n",
    "We compute contact volumes per-edge using the edges earliest contact. For each edge, the volume is given by\n",
    "$$\n",
    "\\newcommand{\\bU}{\\mathbf{U}}\n",
    "\\newcommand{\\be}{\\mathbf{e}}\n",
    "V_k(\\be) = (1 - \\tau_I)\\sqrt{\\epsilon^2 |\\be(\\tau_I)|^2 + \\bU_{ij} \\cdot \\be(\\tau_I)^{\\bot}}\n",
    "$$\n",
    "\n",
    "where \n",
    "- $|e(\\tau_I)|$ is the length of the edge at the first time of collision ($\\tau_I$), \n",
    "- $\\epsilon$ is some small value\n",
    "- $\\bU_{ij}$ is the velocity of the contact point at the edge. \n",
    "\n",
    "Let $\\bU_i,\\bU_j,\\bU_k$ be the velocities (i.e also distances since $dt=1$) of the three vertexes. We can compute $\\bU_{ij}$, the velocity of the contact point along the edge as\n",
    "\n",
    "$$ \\bU_{ij} = \\bU_{i} + \\alpha_{\\tau} (\\bU_{j} - \\bU_{i}) $$\n",
    "\n",
    "where $\\alpha_{\\tau}$ is the distance along the edge where the first contact happens ( $0\\leq \\alpha \\leq 1$).\n"
   ]
  },
  {
   "cell_type": "code",
   "execution_count": 2,
   "metadata": {},
   "outputs": [],
   "source": [
    "import sympy as sp\n",
    "import numpy as np\n",
    "from sympy import init_printing\n",
    "init_printing()"
   ]
  },
  {
   "cell_type": "code",
   "execution_count": 4,
   "metadata": {},
   "outputs": [],
   "source": [
    "v = np.array(sp.symbols(\"V_i:k\")) # vertices positions\n",
    "d = np.array(sp.symbols(\"U_i:k\")) # vertices displacements\n",
    "alpha = sp.symbols(\"\\\\alpha\")\n",
    "t = sp.symbols(\"t\")\n",
    "tau = sp.symbols(\"\\\\tau_I\")"
   ]
  },
  {
   "cell_type": "code",
   "execution_count": 8,
   "metadata": {},
   "outputs": [
    {
     "data": {
      "text/plain": [
       "array([U_i*\\tau_I + V_i, U_j*\\tau_I + V_j, U_k*\\tau_I + V_k], dtype=object)"
      ]
     },
     "execution_count": 8,
     "metadata": {},
     "output_type": "execute_result"
    }
   ],
   "source": [
    "v_tau = v + tau * d\n",
    "v_tau"
   ]
  },
  {
   "cell_type": "code",
   "execution_count": 7,
   "metadata": {},
   "outputs": [
    {
     "data": {
      "image/png": "[encoded data removed]",
      "text/latex": [
       "$$- U_{i} \\tau_I + U_{j} \\tau_I - V_{i} + V_{j}$$"
      ],
      "text/plain": [
       "-Uᵢ⋅\\tau_I + U_j⋅\\tau_I - Vᵢ + V_j"
      ]
     },
     "execution_count": 7,
     "metadata": {},
     "output_type": "execute_result"
    }
   ],
   "source": [
    "e = v_tau[1] - v_tau[0]\n",
    "e"
   ]
  },
  {
   "cell_type": "code",
   "execution_count": null,
   "metadata": {},
   "outputs": [],
   "source": []
  }
 ],
 "metadata": {
  "kernelspec": {
   "display_name": "Python 3",
   "language": "python",
   "name": "python3"
  },
  "language_info": {
   "codemirror_mode": {
    "name": "ipython",
    "version": 3
   },
   "file_extension": ".py",
   "mimetype": "text/x-python",
   "name": "python",
   "nbconvert_exporter": "python",
   "pygments_lexer": "ipython3",
   "version": "3.7.2"
  }
 },
 "nbformat": 4,
 "nbformat_minor": 2
}
