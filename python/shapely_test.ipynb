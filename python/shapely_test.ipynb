{
 "cells": [
  {
   "cell_type": "code",
   "execution_count": 1,
   "metadata": {},
   "outputs": [],
   "source": [
    "import numpy\n",
    "import shapely.geometry\n",
    "import shapely.ops"
   ]
  },
  {
   "cell_type": "code",
   "execution_count": 2,
   "metadata": {},
   "outputs": [],
   "source": [
    "def generate_rectangle_vertices(hx: float, hy: float, center: numpy.ndarray,\n",
    "                                angle: float) -> numpy.ndarray:\n",
    "    \"\"\"Generate a rectangle polygon.\"\"\"\n",
    "    points = numpy.array([[hx, hy], [-hx, hy], [-hx, -hy], [hx, -hy]])\n",
    "    points = points @ create_2D_rotation_matrix(angle).T\n",
    "    points += center\n",
    "    return points\n",
    "\n",
    "\n",
    "def generate_rectangle(hx: float, hy: float, center: numpy.ndarray,\n",
    "                       angle: float) -> shapely.geometry.Polygon:\n",
    "    \"\"\"Generate a rectangle polygon.\"\"\"\n",
    "    return shapely.geometry.Polygon(\n",
    "        generate_rectangle_vertices(hx, hy, center, angle))\n",
    "\n",
    "def create_2D_rotation_matrix(theta: float) -> numpy.ndarray:\n",
    "    c, s = numpy.cos(theta), numpy.sin(theta)\n",
    "    return numpy.array([[c, -s], [s, c]])"
   ]
  },
  {
   "cell_type": "code",
   "execution_count": 3,
   "metadata": {},
   "outputs": [],
   "source": [
    "rect1 = generate_rectangle(1, 1, numpy.array([0, 0]), 0)\n",
    "rect2 = generate_rectangle(1, 1, numpy.array([0.5, 0]), 0)"
   ]
  },
  {
   "cell_type": "code",
   "execution_count": 4,
   "metadata": {},
   "outputs": [],
   "source": [
    "rect3 = shapely.ops.cascaded_union([rect1, rect2])"
   ]
  },
  {
   "cell_type": "code",
   "execution_count": 5,
   "metadata": {},
   "outputs": [
    {
     "data": {
      "text/plain": [
       "[(-0.5, 1.0),\n",
       " (1.0, 1.0),\n",
       " (1.5, 1.0),\n",
       " (1.5, -1.0),\n",
       " (1.0, -1.0),\n",
       " (-0.5, -1.0),\n",
       " (-1.0, -1.0),\n",
       " (-1.0, 1.0),\n",
       " (-0.5, 1.0)]"
      ]
     },
     "execution_count": 5,
     "metadata": {},
     "output_type": "execute_result"
    }
   ],
   "source": [
    "list(rect3.exterior.coords)"
   ]
  },
  {
   "cell_type": "code",
   "execution_count": null,
   "metadata": {},
   "outputs": [],
   "source": []
  },
  {
   "cell_type": "code",
   "execution_count": null,
   "metadata": {},
   "outputs": [],
   "source": []
  }
 ],
 "metadata": {
  "kernelspec": {
   "display_name": "Python 3",
   "language": "python",
   "name": "python3"
  },
  "language_info": {
   "codemirror_mode": {
    "name": "ipython",
    "version": 3
   },
   "file_extension": ".py",
   "mimetype": "text/x-python",
   "name": "python",
   "nbconvert_exporter": "python",
   "pygments_lexer": "ipython3",
   "version": "3.7.4"
  }
 },
 "nbformat": 4,
 "nbformat_minor": 2
}
