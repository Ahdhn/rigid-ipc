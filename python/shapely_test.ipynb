{
 "cells": [
  {
   "cell_type": "code",
   "execution_count": 1,
   "metadata": {},
   "outputs": [],
   "source": [
    "import numpy\n",
    "import shapely.geometry\n",
    "import shapely.ops"
   ]
  },
  {
   "cell_type": "code",
   "execution_count": 2,
   "metadata": {},
   "outputs": [],
   "source": [
    "def generate_rectangle_vertices(hx: float, hy: float, center: numpy.ndarray,\n",
    "                                angle: float) -> numpy.ndarray:\n",
    "    \"\"\"Generate a rectangle polygon.\"\"\"\n",
    "    points = numpy.array([[hx, hy], [-hx, hy], [-hx, -hy], [hx, -hy]])\n",
    "    points = points @ create_2D_rotation_matrix(angle).T\n",
    "    points += center\n",
    "    return points\n",
    "\n",
    "\n",
    "def generate_rectangle(hx: float, hy: float, center: numpy.ndarray,\n",
    "                       angle: float) -> shapely.geometry.Polygon:\n",
    "    \"\"\"Generate a rectangle polygon.\"\"\"\n",
    "    return shapely.geometry.Polygon(\n",
    "        generate_rectangle_vertices(hx, hy, center, angle))\n",
    "\n",
    "def create_2D_rotation_matrix(theta: float) -> numpy.ndarray:\n",
    "    c, s = numpy.cos(theta), numpy.sin(theta)\n",
    "    return numpy.array([[c, -s], [s, c]])"
   ]
  },
  {
   "cell_type": "code",
   "execution_count": 6,
   "metadata": {},
   "outputs": [],
   "source": [
    "def generate_link_polygons() -> list:\n",
    "    \"\"\"Generate a list of Polygons for the chain link.\"\"\"\n",
    "    half_thickness = 1e-2\n",
    "    width = 6\n",
    "    height = 5\n",
    "\n",
    "    head_hx = width / 2 - 4 * half_thickness - 0.5\n",
    "    foot_hx = width / 4 - 4 * half_thickness\n",
    "    leg_hy = 2 * height / 7 - half_thickness\n",
    "    leg_cy = leg_hy + half_thickness\n",
    "    torso_hx = width / 2\n",
    "    torso_cy = 2 * leg_cy - half_thickness\n",
    "    neck_hy = (height - torso_cy - half_thickness) / 2\n",
    "    neck_cy = height - neck_hy - 1e-12\n",
    "\n",
    "    return [\n",
    "        # Head\n",
    "        generate_rectangle(head_hx, half_thickness,\n",
    "                           numpy.array([width / 2, height - half_thickness]),\n",
    "                           0),\n",
    "        # Neck\n",
    "        generate_rectangle(half_thickness, neck_hy,\n",
    "                           numpy.array([width / 2, neck_cy]), 0),\n",
    "        # Torso\n",
    "        generate_rectangle(torso_hx, half_thickness,\n",
    "                           numpy.array([torso_hx, torso_cy]), 0),\n",
    "        # Left leg\n",
    "        generate_rectangle(half_thickness, leg_hy,\n",
    "                           numpy.array([half_thickness, leg_cy]), 0),\n",
    "        # Left foot\n",
    "        generate_rectangle(foot_hx, half_thickness,\n",
    "                           numpy.array([foot_hx, half_thickness]), 0),\n",
    "        # Right leg\n",
    "        generate_rectangle(half_thickness, leg_hy,\n",
    "                           numpy.array([width - half_thickness, leg_cy]), 0),\n",
    "        # Right foot\n",
    "        generate_rectangle(foot_hx, half_thickness,\n",
    "                           numpy.array([width - foot_hx, half_thickness]), 0),\n",
    "    ]"
   ]
  },
  {
   "cell_type": "code",
   "execution_count": 7,
   "metadata": {},
   "outputs": [
    {
     "data": {
      "text/plain": [
       "[<shapely.geometry.polygon.Polygon at 0x11545e1d0>,\n",
       " <shapely.geometry.polygon.Polygon at 0x11545ef10>,\n",
       " <shapely.geometry.polygon.Polygon at 0x11545efd0>,\n",
       " <shapely.geometry.polygon.Polygon at 0x10ea77d50>,\n",
       " <shapely.geometry.polygon.Polygon at 0x10ea77a10>,\n",
       " <shapely.geometry.polygon.Polygon at 0x10ea77310>,\n",
       " <shapely.geometry.polygon.Polygon at 0x10ea77b10>]"
      ]
     },
     "execution_count": 7,
     "metadata": {},
     "output_type": "execute_result"
    }
   ],
   "source": [
    "generate_link_polygons()"
   ]
  },
  {
   "cell_type": "code",
   "execution_count": 8,
   "metadata": {},
   "outputs": [
    {
     "data": {
      "image/svg+xml": [
       "<svg xmlns=\"http://www.w3.org/2000/svg\" xmlns:xlink=\"http://www.w3.org/1999/xlink\" width=\"100.0\" height=\"100.0\" viewBox=\"-0.24 -0.24 6.48 5.48\" preserveAspectRatio=\"xMinYMin meet\"><g transform=\"matrix(1,0,0,-1,0,5.0)\"><g><path fill-rule=\"evenodd\" fill=\"#66cc99\" stroke=\"#555555\" stroke-width=\"0.12960000000000002\" opacity=\"0.6\" d=\"M 2.99,5.0 L 3.01,5.0 L 5.46,5.0 L 5.46,4.98 L 3.01,4.98 L 3.01,2.8571428571428577 L 2.99,2.8571428571428577 L 2.99,4.98 L 0.54,4.98 L 0.54,5.0 L 2.99,5.0 z\" /><path fill-rule=\"evenodd\" fill=\"#66cc99\" stroke=\"#555555\" stroke-width=\"0.12960000000000002\" opacity=\"0.6\" d=\"M 0.02,0.02 L 2.92,0.02 L 2.92,0.0 L 0.0,0.0 L 0.0,0.010000000000000009 L 0.0,0.02 L 0.0,2.8371428571428576 L 0.0,2.847142857142857 L 0.0,2.857142857142857 L 6.0,2.857142857142857 L 6.0,2.847142857142857 L 6.0,2.8371428571428576 L 6.0,0.02 L 6.0,0.010000000000000009 L 6.0,0.0 L 3.08,0.0 L 3.08,0.02 L 5.98,0.02 L 5.98,2.8371428571428576 L 0.02,2.8371428571428576 L 0.02,0.02 z\" /></g></g></svg>"
      ],
      "text/plain": [
       "<shapely.geometry.multipolygon.MultiPolygon at 0x11545edd0>"
      ]
     },
     "execution_count": 8,
     "metadata": {},
     "output_type": "execute_result"
    }
   ],
   "source": [
    "shapely.ops.cascaded_union(generate_link_polygons())"
   ]
  },
  {
   "cell_type": "code",
   "execution_count": null,
   "metadata": {},
   "outputs": [],
   "source": []
  },
  {
   "cell_type": "code",
   "execution_count": null,
   "metadata": {},
   "outputs": [],
   "source": []
  }
 ],
 "metadata": {
  "kernelspec": {
   "display_name": "Python 3",
   "language": "python",
   "name": "python3"
  },
  "language_info": {
   "codemirror_mode": {
    "name": "ipython",
    "version": 3
   },
   "file_extension": ".py",
   "mimetype": "text/x-python",
   "name": "python",
   "nbconvert_exporter": "python",
   "pygments_lexer": "ipython3",
   "version": "3.7.4"
  }
 },
 "nbformat": 4,
 "nbformat_minor": 2
}
