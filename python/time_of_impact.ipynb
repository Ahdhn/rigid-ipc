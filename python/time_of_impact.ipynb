{
 "cells": [
  {
   "cell_type": "markdown",
   "metadata": {},
   "source": [
    "# Edge-Vertex Continuous Collision Detection"
   ]
  },
  {
   "cell_type": "markdown",
   "metadata": {},
   "source": [
    "Given a point that moves over time, $\\vec{p}_0(t)$, and an edge, $\\vec{e}(s, t)$, comprised of two points, $\\vec{p}_1(t)$ and $\\vec{p}_2(t)$, we want to find the time of impact between the point and edge. Let us assume a normalized time step $t=0$ to $t=1$. We known the point positions for $t=0$ and $t=1$. Let us also assume that for all points the trajectory is linear and the velocity is constant for all points. We can write the trajectories as \n",
    "\n",
    "\\begin{align}\n",
    "    \\vec{p}_i(t) &= [\\vec{p}_i(1) - \\vec{p}_i(0)] t + \\vec{p}_i(0) & \\forall i \\in \\{0, 1, 2\\}, t \\in [0, 1]\\\\\n",
    "    e(s, t) &= (\\vec{p}_2(t) - \\vec{p}_1(t)) s + \\vec{p}_1(t) & \\forall s \\in [0, 1] \n",
    "\\end{align}"
   ]
  },
  {
   "cell_type": "code",
   "execution_count": 1,
   "metadata": {},
   "outputs": [],
   "source": [
    "# Compute a polynomial for the intersection of a point and edge both moving\n",
    "# through time.\n",
    "# General idea: http://www.sci.utah.edu/~kpotter/publications/ramsey-2004-RBPI.pdf\n",
    "\n",
    "import numpy\n",
    "import sympy\n",
    "from IPython.display import display, Markdown, Latex\n",
    "# sympy.init_printing(use_latex='mathjax')\n",
    "\n",
    "# s is the spatial parameterization for the edge\n",
    "# t is the temporal parameterization\n",
    "s, t = sympy.symbols(\"s t\")"
   ]
  },
  {
   "cell_type": "code",
   "execution_count": 2,
   "metadata": {},
   "outputs": [],
   "source": [
    "dimensions = 2  # Number of dimensions of the points and edge\n",
    "# For each dimenstion write the trajectory of the point and edge\n",
    "d = \"y\" if dimensions == 2 else \"z\"\n",
    "# Three points, one free and two for the edge, each with a velocity\n",
    "p = numpy.reshape(sympy.symbols(f\"p_0:3_x:{d}\"), (-1, dimensions))\n",
    "v = numpy.reshape(sympy.symbols(f\"v_0:3_x:{d}\"), (-1, dimensions))"
   ]
  },
  {
   "cell_type": "code",
   "execution_count": 3,
   "metadata": {},
   "outputs": [],
   "source": [
    "# Write the point's trajectory as a line in time\n",
    "pt = p + t * v\n",
    "# Write the dimensions of the edge\n",
    "e = (pt[2,:] - pt[1,:]) * s + pt[1,:]"
   ]
  },
  {
   "cell_type": "code",
   "execution_count": 4,
   "metadata": {},
   "outputs": [
    {
     "data": {
      "text/latex": [
       "$s_0 = (-p_0_x + p_1_x - t*v_0_x + t*v_1_x)/(p_1_x - p_2_x + t*v_1_x - t*v_2_x)$"
      ],
      "text/plain": [
       "<IPython.core.display.Latex object>"
      ]
     },
     "metadata": {},
     "output_type": "display_data"
    },
    {
     "data": {
      "text/latex": [
       "$s_1 = (-p_0_y + p_1_y - t*v_0_y + t*v_1_y)/(p_1_y - p_2_y + t*v_1_y - t*v_2_y)$"
      ],
      "text/plain": [
       "<IPython.core.display.Latex object>"
      ]
     },
     "metadata": {},
     "output_type": "display_data"
    }
   ],
   "source": [
    "sn = [None] * dimensions\n",
    "sd = [None] * dimensions\n",
    "for i in range(0, dimensions):\n",
    "    # Equate the point and edge in the current dimension\n",
    "    eq = sympy.Eq(pt[0,i], e[i])\n",
    "    # Solve for the spatial parameterization along the edge\n",
    "    s_ = sympy.solve(eq, s)[0]\n",
    "    display(Latex(f\"$s_{i} = {s_}$\"))\n",
    "    # Split the spatial parameterization into a numerator and denominator\n",
    "    # NB: The denominator can be zero if the edge is degenerate\n",
    "    sn[i], sd[i] = sympy.fraction(s_)\n",
    "\n",
    "# Equate the different dimensions of the spatial parameterization\n",
    "if dimensions == 2:\n",
    "    eq1 = sympy.Eq(sn[0] * sd[1], sn[1] * sd[0])\n",
    "elif dimensions == 3:\n",
    "    eq1 = sympy.Eq(sd[2] * (sn[0] * sd[1] - sn[1] * sd[0]), sn[0])\n",
    "else:\n",
    "    raise Exception(\"Invalid dimension option\")\n",
    "\n",
    "# Write the equations as a polynomial in t\n",
    "t_poly = sympy.polys.polytools.poly_from_expr(eq1, t)"
   ]
  },
  {
   "cell_type": "code",
   "execution_count": 5,
   "metadata": {},
   "outputs": [
    {
     "data": {
      "text/latex": [
       "$a_2t^2 + a_1t + a_0 = 0$"
      ],
      "text/plain": [
       "<IPython.core.display.Latex object>"
      ]
     },
     "metadata": {},
     "output_type": "display_data"
    },
    {
     "data": {
      "text/latex": [
       "$a_2 = -v_0_x*v_1_y + v_0_x*v_2_y + v_0_y*v_1_x - v_0_y*v_2_x - v_1_x*v_2_y + v_1_y*v_2_x$"
      ],
      "text/plain": [
       "<IPython.core.display.Latex object>"
      ]
     },
     "metadata": {},
     "output_type": "display_data"
    },
    {
     "data": {
      "text/latex": [
       "$a_1 = -p_0_x*v_1_y + p_0_x*v_2_y + p_0_y*v_1_x - p_0_y*v_2_x + p_1_x*v_0_y - p_1_x*v_2_y - p_1_y*v_0_x + p_1_y*v_2_x - p_2_x*v_0_y + p_2_x*v_1_y + p_2_y*v_0_x - p_2_y*v_1_x$"
      ],
      "text/plain": [
       "<IPython.core.display.Latex object>"
      ]
     },
     "metadata": {},
     "output_type": "display_data"
    },
    {
     "data": {
      "text/latex": [
       "$a_0 = -p_0_x*p_1_y + p_0_x*p_2_y + p_0_y*p_1_x - p_0_y*p_2_x - p_1_x*p_2_y + p_1_y*p_2_x$"
      ],
      "text/plain": [
       "<IPython.core.display.Latex object>"
      ]
     },
     "metadata": {},
     "output_type": "display_data"
    }
   ],
   "source": [
    "display(Latex(\"$a_2t^2 + a_1t + a_0 = 0$\"))\n",
    "coeffs = t_poly[0].all_coeffs()\n",
    "for i, coeff in enumerate(coeffs):\n",
    "    display(Latex(f\"$a_{dimensions - i} = {sympy.factor(coeff)}$\"))"
   ]
  },
  {
   "cell_type": "markdown",
   "metadata": {},
   "source": [
    "## Equation for $t$ in 2D:\n",
    "\n",
    "\\begin{align*}\n",
    "&[v_{0x}(v_{2y}-v_{1y}) + v_{0y}(v_{1x} - v_{2x}) - v_{1x}v_{2y} + v_{1y}v_{2x}] \\cdot t^2 \\\\\n",
    "+& [p_{0x}(v_{2y}-v_{1y}) + p_{0y}(v_{1x} - v_{2x}) + p_{1x}(v_{0y} - v_{2y}) + p_{1y}(v_{2x}-v_{0x}) + p_{2x}(v_{1y}-v_{0y}) + p_{2y}(v_{0x} - v_{1x})] \\cdot t \\\\\n",
    "+& p_{0x}(p_{2y} - p_{1y}) + p_{0y}(p_{1x} - p_{2x}) - p_{1x}p_{2y} + p_{1y}p_{2x} = 0 \\\\\n",
    "\\end{align*}"
   ]
  },
  {
   "cell_type": "code",
   "execution_count": null,
   "metadata": {},
   "outputs": [],
   "source": []
  },
  {
   "cell_type": "code",
   "execution_count": null,
   "metadata": {},
   "outputs": [],
   "source": []
  },
  {
   "cell_type": "code",
   "execution_count": null,
   "metadata": {},
   "outputs": [],
   "source": []
  },
  {
   "cell_type": "code",
   "execution_count": null,
   "metadata": {},
   "outputs": [],
   "source": []
  }
 ],
 "metadata": {
  "kernelspec": {
   "display_name": "Python 3",
   "language": "python",
   "name": "python3"
  },
  "language_info": {
   "codemirror_mode": {
    "name": "ipython",
    "version": 3
   },
   "file_extension": ".py",
   "mimetype": "text/x-python",
   "name": "python",
   "nbconvert_exporter": "python",
   "pygments_lexer": "ipython3",
   "version": "3.7.2"
  }
 },
 "nbformat": 4,
 "nbformat_minor": 2
}
