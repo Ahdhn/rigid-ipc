{
 "cells": [
  {
   "cell_type": "markdown",
   "metadata": {},
   "source": [
    "# Edge-Vertex Continuous Collision Detection (CCD)"
   ]
  },
  {
   "cell_type": "markdown",
   "metadata": {},
   "source": [
    "Given a point that moves over time, $\\vec{p}_0(t)$, and an edge, $\\vec{e}(s, t)$, comprised of two points, $\\vec{p}_1(t)$ and $\\vec{p}_2(t)$, we want to find the time of impact between the point and edge. Let us assume a normalized time step $t=0$ to $t=1$. We known the point positions for $t=0$ and $t=1$. Let us also assume that for all points the trajectory is linear and the velocity is constant for all points. We can write the trajectories as \n",
    "\n",
    "\\begin{align}\n",
    "    \\vec{p}_i(t) &= [\\vec{p}_i(1) - \\vec{p}_i(0)] t + \\vec{p}_i(0) & \\forall i \\in \\{0, 1, 2\\}, t \\in [0, 1]\\\\\n",
    "    e(s, t) &= (\\vec{p}_2(t) - \\vec{p}_1(t)) s + \\vec{p}_1(t) & \\forall s \\in [0, 1] \n",
    "\\end{align}"
   ]
  },
  {
   "cell_type": "code",
   "execution_count": 1,
   "metadata": {},
   "outputs": [],
   "source": [
    "# Compute a polynomial for the intersection of a point and edge both moving\n",
    "# through time.\n",
    "# General idea: http://www.sci.utah.edu/~kpotter/publications/ramsey-2004-RBPI.pdf\n",
    "\n",
    "import numpy\n",
    "import sympy\n",
    "from IPython.display import display, Markdown, Math, Latex\n",
    "from sympy.printing.latex import latex\n",
    "import string\n",
    "# sympy.init_printing(use_latex='mathjax')\n",
    "\n",
    "# s is the spatial parameterization for the edge\n",
    "# t is the temporal parameterization\n",
    "s, t = sympy.symbols(\"s t\")\n",
    "\n",
    "def display_eq(name, value):\n",
    "    display(Math(f\"{name}:={latex(value)}\"))"
   ]
  },
  {
   "cell_type": "code",
   "execution_count": 2,
   "metadata": {},
   "outputs": [],
   "source": [
    "dimensions = 2  # Number of dimensions of the points and edge\n",
    "# For each dimenstion write the trajectory of the point and edge\n",
    "d = \"y\" if dimensions == 2 else \"z\"\n",
    "# Three points, one free and two for the edge, each with a velocity\n",
    "p = numpy.reshape(sympy.symbols(f\"p_0:3_x:{d}\", real=True), (-1, dimensions))\n",
    "v = numpy.reshape(sympy.symbols(f\"v_0:3_x:{d}\", real=True), (-1, dimensions))"
   ]
  },
  {
   "cell_type": "code",
   "execution_count": 3,
   "metadata": {},
   "outputs": [],
   "source": [
    "# Write the point's trajectory as a line in time\n",
    "pt = p + t * v\n",
    "# Write the dimensions of the edge\n",
    "e = (pt[2,:] - pt[1,:]) * s + pt[1,:]"
   ]
  },
  {
   "cell_type": "code",
   "execution_count": 4,
   "metadata": {},
   "outputs": [
    {
     "data": {
      "text/latex": [
       "$\\displaystyle s_0:=\\frac{- p_{0 x} + p_{1 x} - t v_{0 x} + t v_{1 x}}{p_{1 x} - p_{2 x} + t v_{1 x} - t v_{2 x}}$"
      ],
      "text/plain": [
       "<IPython.core.display.Math object>"
      ]
     },
     "metadata": {},
     "output_type": "display_data"
    },
    {
     "data": {
      "text/latex": [
       "$\\displaystyle s_1:=\\frac{- p_{0 y} + p_{1 y} - t v_{0 y} + t v_{1 y}}{p_{1 y} - p_{2 y} + t v_{1 y} - t v_{2 y}}$"
      ],
      "text/plain": [
       "<IPython.core.display.Math object>"
      ]
     },
     "metadata": {},
     "output_type": "display_data"
    }
   ],
   "source": [
    "sn = [None] * dimensions\n",
    "sd = [None] * dimensions\n",
    "seq = [None] * dimensions\n",
    "for i in range(0, dimensions):\n",
    "    # Equate the point and edge in the current dimension\n",
    "    eq = sympy.Eq(pt[0,i], e[i])\n",
    "    # Solve for the spatial parameterization along the edge\n",
    "    s_ = sympy.solve(eq, s)[0]\n",
    "    display_eq(f\"s_{i}\", s_)\n",
    "    # Split the spatial parameterization into a numerator and denominator\n",
    "    # NB: The denominator can be zero if the edge is degenerate\n",
    "    sn[i], sd[i] = sympy.fraction(s_)\n",
    "\n",
    "# Equate the different dimensions of the spatial parameterization\n",
    "if dimensions == 2:\n",
    "    eq1 = sympy.Eq(sn[0] * sd[1], sn[1] * sd[0])\n",
    "elif dimensions == 3:\n",
    "    eq1 = sympy.Eq(sd[2] * (sn[0] * sd[1] - sn[1] * sd[0]), sn[0])\n",
    "else:\n",
    "    raise Exception(\"Invalid dimension option\")"
   ]
  },
  {
   "cell_type": "code",
   "execution_count": 5,
   "metadata": {
    "scrolled": true
   },
   "outputs": [
    {
     "data": {
      "text/latex": [
       "$\\displaystyle a:=- v_{0 x} v_{1 y} + v_{0 x} v_{2 y} + v_{0 y} v_{1 x} - v_{0 y} v_{2 x} - v_{1 x} v_{2 y} + v_{1 y} v_{2 x}$"
      ],
      "text/plain": [
       "<IPython.core.display.Math object>"
      ]
     },
     "metadata": {},
     "output_type": "display_data"
    },
    {
     "data": {
      "text/latex": [
       "$\\displaystyle b:=- p_{0 x} v_{1 y} + p_{0 x} v_{2 y} + p_{0 y} v_{1 x} - p_{0 y} v_{2 x} + p_{1 x} v_{0 y} - p_{1 x} v_{2 y} - p_{1 y} v_{0 x} + p_{1 y} v_{2 x} - p_{2 x} v_{0 y} + p_{2 x} v_{1 y} + p_{2 y} v_{0 x} - p_{2 y} v_{1 x}$"
      ],
      "text/plain": [
       "<IPython.core.display.Math object>"
      ]
     },
     "metadata": {},
     "output_type": "display_data"
    },
    {
     "data": {
      "text/latex": [
       "$\\displaystyle c:=- p_{0 x} p_{1 y} + p_{0 x} p_{2 y} + p_{0 y} p_{1 x} - p_{0 y} p_{2 x} - p_{1 x} p_{2 y} + p_{1 y} p_{2 x}$"
      ],
      "text/plain": [
       "<IPython.core.display.Math object>"
      ]
     },
     "metadata": {},
     "output_type": "display_data"
    }
   ],
   "source": [
    "# Write the equations as a polynomial in t\n",
    "t_poly = sympy.polys.polytools.poly_from_expr(eq1, t)\n",
    "\n",
    "# Display the coefficents\n",
    "for coeff_name, coeff_val in zip(string.ascii_lowercase, t_poly[0].all_coeffs()):\n",
    "    display_eq(coeff_name, sympy.factor(coeff_val))"
   ]
  },
  {
   "cell_type": "markdown",
   "metadata": {},
   "source": [
    "## Equation for $t$ in 2D:\n",
    "We want to solve the quadratic equation $a t^2 + b t + c = 0$ with the coefficient defined above.\n",
    "\n",
    "Using the formula $$t = \\frac{-b \\pm \\sqrt{b^2 - 4 a c}}{2a}$$ is unstable for values of $a$ near zero.\n",
    "\n",
    "Another alternative is the **Citardauq Formula** $$t = \\frac{-2c}{ |b| \\pm \\sqrt{b^2 - 4 a c}}$$\n",
    "where one of the roots is stable when $a \\rightarrow 0$. The other root goes to infinitity (as $-b + |b|$) goes to zero.\n",
    "\n",
    "What we will do is use one or the other one depending on the values of $a$ and $b$."
   ]
  },
  {
   "cell_type": "code",
   "execution_count": 6,
   "metadata": {},
   "outputs": [],
   "source": [
    "from math import sqrt\n",
    "def solve_quadratic_v1(a, b, c):\n",
    "    D = b**2 - 4*a*c\n",
    "    x1, x2 = None, None\n",
    "    if D > 0:\n",
    "        if a != 0:\n",
    "            x1 = (-b + sqrt(D)) / (2 * a)\n",
    "            x2 = (-b - sqrt(D)) / (2 * a)\n",
    "        elif b != 0:\n",
    "            x1 = - c / b\n",
    "    return x1, x2\n",
    "\n",
    "def solve_quadratic_v2(a, b, c):\n",
    "    D = b**2 - 4*a*c\n",
    "    x1, x2 = None, None\n",
    "    if D > 0:\n",
    "        if b > 0:\n",
    "            x1 = -2 * c / (b + sqrt(D))\n",
    "            if a != 0 :\n",
    "                x2 = (-b - sqrt(D))/(2*a)\n",
    "        else:\n",
    "            x2 = -2*c/(-b + sqrt(D))\n",
    "            if a != 0:\n",
    "                x1 = (-b + sqrt(D))/(2*a)\n",
    "#     elif a == b == c == 0:\n",
    "#         x1, x2 = numpy.inf, numpy.inf\n",
    "    return x1, x2"
   ]
  },
  {
   "cell_type": "code",
   "execution_count": 7,
   "metadata": {},
   "outputs": [
    {
     "name": "stdout",
     "output_type": "stream",
     "text": [
      "(0.5, -1.0) (0.5, -1.0)\n"
     ]
    }
   ],
   "source": [
    "x = solve_quadratic_v1(2.0, 1.0, -1.0)\n",
    "y = solve_quadratic_v2(2.0, 1.0, -1.0)\n",
    "print(x, y)"
   ]
  },
  {
   "cell_type": "code",
   "execution_count": 8,
   "metadata": {},
   "outputs": [
    {
     "name": "stdout",
     "output_type": "stream",
     "text": [
      "(None, None)\n"
     ]
    }
   ],
   "source": [
    "print(solve_quadratic_v2(0, 0, 0))"
   ]
  },
  {
   "cell_type": "markdown",
   "metadata": {},
   "source": [
    "## Minimum Seperation Distance\n",
    "\n",
    "We want to impose a minimum speration distance between the vertex and edge. We solve for the time at which the point and edge are at a distance $h$ away from each other. The distance between the point and edges, $d(t)$, is\n",
    "\n",
    "\\begin{align}\n",
    "    s(t) &= \\min\\left(\\max\\left(\\frac{\\left(\\vec{p}_0(t) - \\vec{p}_1(t)\\right) \\cdot \\left(\\vec{p}_2(t) - \\vec{p}_1(t)\\right)}{\\| \\vec{p}_2(t) - \\vec{p}_1(t) \\|^2}, 0\\right), 1\\right)\\\\\n",
    "    \\vec{p}_*(t) &= \\vec{p}_1(t) + s(t) * (\\vec{p}_2(t) - \\vec{p}_1(t))\\\\\n",
    "    d(t) &= \\|\\vec{p}_0(t) - \\vec{p}_*(t)\\|\n",
    "\\end{align}\n",
    "\n",
    "where $\\vec{p}_*(t)$ is the closest point on the edge to $\\vec{p}_0(t)$ at time $t$. To find the time at which the point is a distance $h$ away from the edge, we solve the equation $d(t) - h = 0$ or equivalently $d(t)^2 - h^2 = 0$. "
   ]
  },
  {
   "cell_type": "code",
   "execution_count": 9,
   "metadata": {},
   "outputs": [
    {
     "data": {
      "text/latex": [
       "$\\displaystyle d(t)^2:=\\frac{\\left(\\left(\\left(p_{0 x} - p_{1 x} + t v_{0 x} - t v_{1 x}\\right) \\left(p_{1 x} - p_{2 x} + t v_{1 x} - t v_{2 x}\\right) + \\left(p_{0 y} - p_{1 y} + t v_{0 y} - t v_{1 y}\\right) \\left(p_{1 y} - p_{2 y} + t v_{1 y} - t v_{2 y}\\right)\\right) \\left(p_{1 x} - p_{2 x} + t v_{1 x} - t v_{2 x}\\right) + \\left(\\left(p_{1 x} - p_{2 x} + t v_{1 x} - t v_{2 x}\\right)^{2} + \\left(p_{1 y} - p_{2 y} + t v_{1 y} - t v_{2 y}\\right)^{2}\\right) \\left(- p_{0 x} + p_{1 x} - t v_{0 x} + t v_{1 x}\\right)\\right)^{2} + \\left(\\left(\\left(p_{0 x} - p_{1 x} + t v_{0 x} - t v_{1 x}\\right) \\left(p_{1 x} - p_{2 x} + t v_{1 x} - t v_{2 x}\\right) + \\left(p_{0 y} - p_{1 y} + t v_{0 y} - t v_{1 y}\\right) \\left(p_{1 y} - p_{2 y} + t v_{1 y} - t v_{2 y}\\right)\\right) \\left(p_{1 y} - p_{2 y} + t v_{1 y} - t v_{2 y}\\right) + \\left(\\left(p_{1 x} - p_{2 x} + t v_{1 x} - t v_{2 x}\\right)^{2} + \\left(p_{1 y} - p_{2 y} + t v_{1 y} - t v_{2 y}\\right)^{2}\\right) \\left(- p_{0 y} + p_{1 y} - t v_{0 y} + t v_{1 y}\\right)\\right)^{2}}{\\left(\\left(p_{1 x} - p_{2 x} + t v_{1 x} - t v_{2 x}\\right)^{2} + \\left(p_{1 y} - p_{2 y} + t v_{1 y} - t v_{2 y}\\right)^{2}\\right)^{2}}$"
      ],
      "text/plain": [
       "<IPython.core.display.Math object>"
      ]
     },
     "metadata": {},
     "output_type": "display_data"
    }
   ],
   "source": [
    "# h is the minimum seperation distance\n",
    "h = sympy.symbols(\"h\")\n",
    "\n",
    "# Compute the spatial parameter of the closest point\n",
    "st = ((pt[0] - pt[1]).dot(pt[2] - pt[1])) / ((pt[2] - pt[1]).dot(pt[2] - pt[1]))\n",
    "\n",
    "# Compute the closest point along the edge\n",
    "pt_closest = pt[1] + st * (pt[2] - pt[1])\n",
    "\n",
    "# Compute the distance between p0 and p*\n",
    "dt_sq = (pt[0] - pt_closest).dot(pt[0] - pt_closest)\n",
    "dt_sq = sympy.simplify(dt_sq)\n",
    "display_eq(\"d(t)^2\", dt_sq)"
   ]
  },
  {
   "cell_type": "code",
   "execution_count": 10,
   "metadata": {},
   "outputs": [],
   "source": [
    "msd_eq = sympy.Eq(sympy.fraction(dt_sq)[0], h**2 * sympy.fraction(dt_sq)[1])\n",
    "\n",
    "# Write the equations as a polynomial in t\n",
    "msd_t_poly = sympy.polys.polytools.poly_from_expr(msd_eq, t)"
   ]
  },
  {
   "cell_type": "code",
   "execution_count": 12,
   "metadata": {
    "scrolled": false
   },
   "outputs": [
    {
     "name": "stdout",
     "output_type": "stream",
     "text": [
      "The equation for the time of minimum spereration is a degree 6 polynomial.\n"
     ]
    }
   ],
   "source": [
    "# Display the coefficients\n",
    "# for coeff_name, coeff_val in zip(string.ascii_lowercase, msd_t_poly[0].all_coeffs()):\n",
    "#     display_eq(coeff_name, sympy.factor(coeff_val))\n",
    "print(\"The equation for the time of minimum spereration is a degree {} polynomial.\".format(\n",
    "    len(msd_t_poly[0].all_coeffs()) - 1))"
   ]
  },
  {
   "cell_type": "code",
   "execution_count": null,
   "metadata": {},
   "outputs": [],
   "source": []
  }
 ],
 "metadata": {
  "kernelspec": {
   "display_name": "Python 3",
   "language": "python",
   "name": "python3"
  },
  "language_info": {
   "codemirror_mode": {
    "name": "ipython",
    "version": 3
   },
   "file_extension": ".py",
   "mimetype": "text/x-python",
   "name": "python",
   "nbconvert_exporter": "python",
   "pygments_lexer": "ipython3",
   "version": "3.7.3"
  }
 },
 "nbformat": 4,
 "nbformat_minor": 2
}
